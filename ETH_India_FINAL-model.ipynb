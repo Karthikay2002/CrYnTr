{
  "cells": [
    {
      "cell_type": "markdown",
      "source": [
        "#Prediction using Custom Made Deep Learning Models\n",
        "> Crypto being traded 24/7, it was important to draw time based boundaries over the trading period. Yahoo Finance has already segmented the trading data of various crypto currencies into *Open*, *High*, *Low*, *Close*. The segmentation assists in developing robust deep learning models for predictions."
      ],
      "metadata": {
        "id": "82a86hvFtSBA"
      }
    },
    {
      "cell_type": "code",
      "execution_count": null,
      "metadata": {
        "id": "Mdcf9L7HBr7R",
        "colab": {
          "base_uri": "https://localhost:8080/"
        },
        "outputId": "8770055f-a945-4824-d4b4-81855060e4d2"
      },
      "outputs": [
        {
          "output_type": "stream",
          "name": "stdout",
          "text": [
            "Mounted at /content/drive\n"
          ]
        }
      ],
      "source": [
        "from google.colab import drive\n",
        "drive.mount('/content/drive')"
      ]
    },
    {
      "cell_type": "code",
      "execution_count": null,
      "metadata": {
        "id": "5HAPXgzpByyz",
        "colab": {
          "base_uri": "https://localhost:8080/"
        },
        "outputId": "7471b1c8-51ed-4e62-dcce-4b315e80b4d5"
      },
      "outputs": [
        {
          "output_type": "stream",
          "name": "stdout",
          "text": [
            "Looking in indexes: https://pypi.org/simple, https://us-python.pkg.dev/colab-wheels/public/simple/\n",
            "Requirement already satisfied: yfinance in /usr/local/lib/python3.8/dist-packages (0.1.87)\n",
            "Requirement already satisfied: pandas>=0.24.0 in /usr/local/lib/python3.8/dist-packages (from yfinance) (1.3.5)\n",
            "Requirement already satisfied: multitasking>=0.0.7 in /usr/local/lib/python3.8/dist-packages (from yfinance) (0.0.11)\n",
            "Requirement already satisfied: numpy>=1.15 in /usr/local/lib/python3.8/dist-packages (from yfinance) (1.21.6)\n",
            "Requirement already satisfied: appdirs>=1.4.4 in /usr/local/lib/python3.8/dist-packages (from yfinance) (1.4.4)\n",
            "Requirement already satisfied: lxml>=4.5.1 in /usr/local/lib/python3.8/dist-packages (from yfinance) (4.9.1)\n",
            "Requirement already satisfied: requests>=2.26 in /usr/local/lib/python3.8/dist-packages (from yfinance) (2.28.1)\n",
            "Requirement already satisfied: pytz>=2017.3 in /usr/local/lib/python3.8/dist-packages (from pandas>=0.24.0->yfinance) (2022.6)\n",
            "Requirement already satisfied: python-dateutil>=2.7.3 in /usr/local/lib/python3.8/dist-packages (from pandas>=0.24.0->yfinance) (2.8.2)\n",
            "Requirement already satisfied: six>=1.5 in /usr/local/lib/python3.8/dist-packages (from python-dateutil>=2.7.3->pandas>=0.24.0->yfinance) (1.15.0)\n",
            "Requirement already satisfied: charset-normalizer<3,>=2 in /usr/local/lib/python3.8/dist-packages (from requests>=2.26->yfinance) (2.1.1)\n",
            "Requirement already satisfied: idna<4,>=2.5 in /usr/local/lib/python3.8/dist-packages (from requests>=2.26->yfinance) (2.10)\n",
            "Requirement already satisfied: certifi>=2017.4.17 in /usr/local/lib/python3.8/dist-packages (from requests>=2.26->yfinance) (2022.9.24)\n",
            "Requirement already satisfied: urllib3<1.27,>=1.21.1 in /usr/local/lib/python3.8/dist-packages (from requests>=2.26->yfinance) (1.24.3)\n"
          ]
        }
      ],
      "source": [
        "import pandas as pd\n",
        "import numpy as np\n",
        "!pip install yfinance\n",
        "import yfinance\n",
        "import matplotlib.pyplot as plt\n",
        "import seaborn as sns\n",
        "sns.set_style('whitegrid')\n",
        "plt.style.use(\"fivethirtyeight\")\n",
        "%matplotlib inline\n",
        "\n",
        "# For reading stock data from yahoo\n",
        "from pandas_datareader.data import DataReader\n",
        "import tensorflow as tf\n",
        "# For time stamps\n",
        "from datetime import datetime"
      ]
    },
    {
      "cell_type": "code",
      "source": [
        "from tensorflow.keras.layers import LeakyReLU\n",
        "leaky_relu = LeakyReLU(alpha=0.1)"
      ],
      "metadata": {
        "id": "HqFa8OokZEwa"
      },
      "execution_count": null,
      "outputs": []
    },
    {
      "cell_type": "markdown",
      "metadata": {
        "id": "DELuXUCHaeAJ"
      },
      "source": [
        "#Adding the Datasets \n",
        "1. AAVE\n",
        "2. MATIC\n",
        "3. ETHER\n",
        "4. SOLANA\n",
        "> The Dataset was preprocessed in such a way that the model learns current date values of *Open*, *High*, *Low* and *Close* to predict **CONCURRENT DAY'S** *Open* and *High*.\n",
        "\n",
        ">*Loss* and *Accuracy* Graphs are given to represent the model's efficiency."
      ]
    },
    {
      "cell_type": "code",
      "execution_count": null,
      "metadata": {
        "id": "qy5lcSVIEA-j"
      },
      "outputs": [],
      "source": [
        "aave = pd.read_csv('/content/drive/MyDrive/ETHIndia/AAVE-USD - AAVE-USD.csv')\n",
        "sol = pd.read_csv('/content/drive/MyDrive/ETHIndia/SOL-USD - SOL-USD.csv')\n",
        "eth = pd.read_csv('/content/drive/MyDrive/ETHIndia/ETH-USD - ETH-USD.csv')\n",
        "matic = pd.read_csv('/content/drive/MyDrive/ETHIndia/MATIC-USD - MATIC-USD.csv')\n"
      ]
    },
    {
      "cell_type": "code",
      "execution_count": null,
      "metadata": {
        "id": "zFCmSEgUXSZs"
      },
      "outputs": [],
      "source": [
        "aave = aave.dropna()\n",
        "sol = sol.dropna()\n",
        "eth = eth.dropna()\n",
        "matic = matic.dropna()"
      ]
    },
    {
      "cell_type": "code",
      "execution_count": null,
      "metadata": {
        "id": "mrO_Du1DBdU2"
      },
      "outputs": [],
      "source": [
        "def data_prep(df):\n",
        "  '''\n",
        "  Data Preperation Function\n",
        "  '''\n",
        "  y_val=df.drop(['Open', 'High', 'Low', 'Close', 'Volume'], axis = 1)\n",
        "  x_data=df.drop(['Open_1', 'High_1', 'Low_1', 'Close_1', 'Volume'], axis = 1)\n",
        "  return x_data, y_val"
      ]
    },
    {
      "cell_type": "code",
      "execution_count": null,
      "metadata": {
        "id": "aXAzsthh_YZ_"
      },
      "outputs": [],
      "source": [
        "def fun_predict(list_inputs, path ):\n",
        "  '''\n",
        "  Function is used to change the input to suit the input shape of the model.\n",
        "  '''\n",
        "  y_test_1 = np.array([list_inputs], dtype='float64')\n",
        "  y_test_1 = tf.constant(y_test_1)\n",
        "  y_test_1= tf.expand_dims(y_test_1, axis = -1)\n",
        "  saved_standard_model = tf.keras.models.load_model(path)\n",
        "  output = saved_standard_model.predict(y_test_1)\n",
        "\n",
        "  print(f'Predicted Open: {output[0][0]}, Predicted High: {output[0][1]}')\n",
        "\n",
        "\n"
      ]
    },
    {
      "cell_type": "markdown",
      "source": [
        "#Predictive Analysis of AAVE"
      ],
      "metadata": {
        "id": "t-Fs_usZluav"
      }
    },
    {
      "cell_type": "code",
      "execution_count": null,
      "metadata": {
        "colab": {
          "base_uri": "https://localhost:8080/",
          "height": 206
        },
        "id": "Z6b-aP_DR8Ht",
        "outputId": "f42c6fe0-2a4c-41cf-f07c-f33624ba9236"
      },
      "outputs": [
        {
          "output_type": "execute_result",
          "data": {
            "text/plain": [
              "         Open        High         Low       Close     Volume      Open_1  \\\n",
              "0  244.841919  246.194611  219.909363  225.629776  241365943  226.138626   \n",
              "1  226.138626  226.292923  162.339096  202.915970  610712251  202.629684   \n",
              "2  202.629684  206.034790  187.302673  191.749329  270580588  191.771362   \n",
              "3  191.771362  191.857620  168.934967  185.207870  387818841  185.281647   \n",
              "4  185.281647  197.220306  181.133453  187.604935  282131643  187.159836   \n",
              "\n",
              "       High_1       Low_1     Close_1  \n",
              "0  226.292923  162.339096  202.915970  \n",
              "1  206.034790  187.302673  191.749329  \n",
              "2  191.857620  168.934967  185.207870  \n",
              "3  197.220306  181.133453  187.604935  \n",
              "4  202.616745  179.955292  202.616745  "
            ],
            "text/html": [
              "\n",
              "  <div id=\"df-bb8c8984-38e6-4ed9-97f8-65b984f10629\">\n",
              "    <div class=\"colab-df-container\">\n",
              "      <div>\n",
              "<style scoped>\n",
              "    .dataframe tbody tr th:only-of-type {\n",
              "        vertical-align: middle;\n",
              "    }\n",
              "\n",
              "    .dataframe tbody tr th {\n",
              "        vertical-align: top;\n",
              "    }\n",
              "\n",
              "    .dataframe thead th {\n",
              "        text-align: right;\n",
              "    }\n",
              "</style>\n",
              "<table border=\"1\" class=\"dataframe\">\n",
              "  <thead>\n",
              "    <tr style=\"text-align: right;\">\n",
              "      <th></th>\n",
              "      <th>Open</th>\n",
              "      <th>High</th>\n",
              "      <th>Low</th>\n",
              "      <th>Close</th>\n",
              "      <th>Volume</th>\n",
              "      <th>Open_1</th>\n",
              "      <th>High_1</th>\n",
              "      <th>Low_1</th>\n",
              "      <th>Close_1</th>\n",
              "    </tr>\n",
              "  </thead>\n",
              "  <tbody>\n",
              "    <tr>\n",
              "      <th>0</th>\n",
              "      <td>244.841919</td>\n",
              "      <td>246.194611</td>\n",
              "      <td>219.909363</td>\n",
              "      <td>225.629776</td>\n",
              "      <td>241365943</td>\n",
              "      <td>226.138626</td>\n",
              "      <td>226.292923</td>\n",
              "      <td>162.339096</td>\n",
              "      <td>202.915970</td>\n",
              "    </tr>\n",
              "    <tr>\n",
              "      <th>1</th>\n",
              "      <td>226.138626</td>\n",
              "      <td>226.292923</td>\n",
              "      <td>162.339096</td>\n",
              "      <td>202.915970</td>\n",
              "      <td>610712251</td>\n",
              "      <td>202.629684</td>\n",
              "      <td>206.034790</td>\n",
              "      <td>187.302673</td>\n",
              "      <td>191.749329</td>\n",
              "    </tr>\n",
              "    <tr>\n",
              "      <th>2</th>\n",
              "      <td>202.629684</td>\n",
              "      <td>206.034790</td>\n",
              "      <td>187.302673</td>\n",
              "      <td>191.749329</td>\n",
              "      <td>270580588</td>\n",
              "      <td>191.771362</td>\n",
              "      <td>191.857620</td>\n",
              "      <td>168.934967</td>\n",
              "      <td>185.207870</td>\n",
              "    </tr>\n",
              "    <tr>\n",
              "      <th>3</th>\n",
              "      <td>191.771362</td>\n",
              "      <td>191.857620</td>\n",
              "      <td>168.934967</td>\n",
              "      <td>185.207870</td>\n",
              "      <td>387818841</td>\n",
              "      <td>185.281647</td>\n",
              "      <td>197.220306</td>\n",
              "      <td>181.133453</td>\n",
              "      <td>187.604935</td>\n",
              "    </tr>\n",
              "    <tr>\n",
              "      <th>4</th>\n",
              "      <td>185.281647</td>\n",
              "      <td>197.220306</td>\n",
              "      <td>181.133453</td>\n",
              "      <td>187.604935</td>\n",
              "      <td>282131643</td>\n",
              "      <td>187.159836</td>\n",
              "      <td>202.616745</td>\n",
              "      <td>179.955292</td>\n",
              "      <td>202.616745</td>\n",
              "    </tr>\n",
              "  </tbody>\n",
              "</table>\n",
              "</div>\n",
              "      <button class=\"colab-df-convert\" onclick=\"convertToInteractive('df-bb8c8984-38e6-4ed9-97f8-65b984f10629')\"\n",
              "              title=\"Convert this dataframe to an interactive table.\"\n",
              "              style=\"display:none;\">\n",
              "        \n",
              "  <svg xmlns=\"http://www.w3.org/2000/svg\" height=\"24px\"viewBox=\"0 0 24 24\"\n",
              "       width=\"24px\">\n",
              "    <path d=\"M0 0h24v24H0V0z\" fill=\"none\"/>\n",
              "    <path d=\"M18.56 5.44l.94 2.06.94-2.06 2.06-.94-2.06-.94-.94-2.06-.94 2.06-2.06.94zm-11 1L8.5 8.5l.94-2.06 2.06-.94-2.06-.94L8.5 2.5l-.94 2.06-2.06.94zm10 10l.94 2.06.94-2.06 2.06-.94-2.06-.94-.94-2.06-.94 2.06-2.06.94z\"/><path d=\"M17.41 7.96l-1.37-1.37c-.4-.4-.92-.59-1.43-.59-.52 0-1.04.2-1.43.59L10.3 9.45l-7.72 7.72c-.78.78-.78 2.05 0 2.83L4 21.41c.39.39.9.59 1.41.59.51 0 1.02-.2 1.41-.59l7.78-7.78 2.81-2.81c.8-.78.8-2.07 0-2.86zM5.41 20L4 18.59l7.72-7.72 1.47 1.35L5.41 20z\"/>\n",
              "  </svg>\n",
              "      </button>\n",
              "      \n",
              "  <style>\n",
              "    .colab-df-container {\n",
              "      display:flex;\n",
              "      flex-wrap:wrap;\n",
              "      gap: 12px;\n",
              "    }\n",
              "\n",
              "    .colab-df-convert {\n",
              "      background-color: #E8F0FE;\n",
              "      border: none;\n",
              "      border-radius: 50%;\n",
              "      cursor: pointer;\n",
              "      display: none;\n",
              "      fill: #1967D2;\n",
              "      height: 32px;\n",
              "      padding: 0 0 0 0;\n",
              "      width: 32px;\n",
              "    }\n",
              "\n",
              "    .colab-df-convert:hover {\n",
              "      background-color: #E2EBFA;\n",
              "      box-shadow: 0px 1px 2px rgba(60, 64, 67, 0.3), 0px 1px 3px 1px rgba(60, 64, 67, 0.15);\n",
              "      fill: #174EA6;\n",
              "    }\n",
              "\n",
              "    [theme=dark] .colab-df-convert {\n",
              "      background-color: #3B4455;\n",
              "      fill: #D2E3FC;\n",
              "    }\n",
              "\n",
              "    [theme=dark] .colab-df-convert:hover {\n",
              "      background-color: #434B5C;\n",
              "      box-shadow: 0px 1px 3px 1px rgba(0, 0, 0, 0.15);\n",
              "      filter: drop-shadow(0px 1px 2px rgba(0, 0, 0, 0.3));\n",
              "      fill: #FFFFFF;\n",
              "    }\n",
              "  </style>\n",
              "\n",
              "      <script>\n",
              "        const buttonEl =\n",
              "          document.querySelector('#df-bb8c8984-38e6-4ed9-97f8-65b984f10629 button.colab-df-convert');\n",
              "        buttonEl.style.display =\n",
              "          google.colab.kernel.accessAllowed ? 'block' : 'none';\n",
              "\n",
              "        async function convertToInteractive(key) {\n",
              "          const element = document.querySelector('#df-bb8c8984-38e6-4ed9-97f8-65b984f10629');\n",
              "          const dataTable =\n",
              "            await google.colab.kernel.invokeFunction('convertToInteractive',\n",
              "                                                     [key], {});\n",
              "          if (!dataTable) return;\n",
              "\n",
              "          const docLinkHtml = 'Like what you see? Visit the ' +\n",
              "            '<a target=\"_blank\" href=https://colab.research.google.com/notebooks/data_table.ipynb>data table notebook</a>'\n",
              "            + ' to learn more about interactive tables.';\n",
              "          element.innerHTML = '';\n",
              "          dataTable['output_type'] = 'display_data';\n",
              "          await google.colab.output.renderOutput(dataTable, element);\n",
              "          const docLink = document.createElement('div');\n",
              "          docLink.innerHTML = docLinkHtml;\n",
              "          element.appendChild(docLink);\n",
              "        }\n",
              "      </script>\n",
              "    </div>\n",
              "  </div>\n",
              "  "
            ]
          },
          "metadata": {},
          "execution_count": 6
        }
      ],
      "source": [
        "aave.head()"
      ]
    },
    {
      "cell_type": "code",
      "execution_count": null,
      "metadata": {
        "id": "2VUWCXMVkPRL",
        "colab": {
          "base_uri": "https://localhost:8080/",
          "height": 300
        },
        "outputId": "8438ed27-2e1b-4d7c-e6af-485d4f92c2be"
      },
      "outputs": [
        {
          "output_type": "execute_result",
          "data": {
            "text/plain": [
              "             Open        High         Low       Close        Volume  \\\n",
              "count  365.000000  365.000000  365.000000  365.000000  3.650000e+02   \n",
              "mean   123.261893  128.600836  117.489078  122.768937  2.359891e+08   \n",
              "std     55.534480   58.290751   52.561417   55.241004  1.706938e+08   \n",
              "min     49.409107   54.914684   45.979153   49.428272  4.249259e+07   \n",
              "25%     80.785721   83.332512   77.367149   80.373329  1.330732e+08   \n",
              "50%    100.203484  105.344650   95.281731   99.493721  1.882791e+08   \n",
              "75%    163.944214  170.848587  157.399475  163.281372  2.872777e+08   \n",
              "max    276.802246  296.736633  266.038788  276.744568  1.517821e+09   \n",
              "\n",
              "           Open_1      High_1       Low_1     Close_1  \n",
              "count  365.000000  365.000000  365.000000  365.000000  \n",
              "mean   122.770975  128.107383  117.061482  122.326327  \n",
              "std     55.248023   58.054413   52.360375   55.061499  \n",
              "min     49.409107   54.914684   45.979153   49.428272  \n",
              "25%     80.383904   83.316902   76.966553   79.618698  \n",
              "50%     99.484825  103.962837   94.957664   99.329384  \n",
              "75%    163.292694  170.182877  157.093140  163.266617  \n",
              "max    276.802246  296.736633  266.038788  276.744568  "
            ],
            "text/html": [
              "\n",
              "  <div id=\"df-94a99197-eea7-4e86-a89b-8d04d371fa02\">\n",
              "    <div class=\"colab-df-container\">\n",
              "      <div>\n",
              "<style scoped>\n",
              "    .dataframe tbody tr th:only-of-type {\n",
              "        vertical-align: middle;\n",
              "    }\n",
              "\n",
              "    .dataframe tbody tr th {\n",
              "        vertical-align: top;\n",
              "    }\n",
              "\n",
              "    .dataframe thead th {\n",
              "        text-align: right;\n",
              "    }\n",
              "</style>\n",
              "<table border=\"1\" class=\"dataframe\">\n",
              "  <thead>\n",
              "    <tr style=\"text-align: right;\">\n",
              "      <th></th>\n",
              "      <th>Open</th>\n",
              "      <th>High</th>\n",
              "      <th>Low</th>\n",
              "      <th>Close</th>\n",
              "      <th>Volume</th>\n",
              "      <th>Open_1</th>\n",
              "      <th>High_1</th>\n",
              "      <th>Low_1</th>\n",
              "      <th>Close_1</th>\n",
              "    </tr>\n",
              "  </thead>\n",
              "  <tbody>\n",
              "    <tr>\n",
              "      <th>count</th>\n",
              "      <td>365.000000</td>\n",
              "      <td>365.000000</td>\n",
              "      <td>365.000000</td>\n",
              "      <td>365.000000</td>\n",
              "      <td>3.650000e+02</td>\n",
              "      <td>365.000000</td>\n",
              "      <td>365.000000</td>\n",
              "      <td>365.000000</td>\n",
              "      <td>365.000000</td>\n",
              "    </tr>\n",
              "    <tr>\n",
              "      <th>mean</th>\n",
              "      <td>123.261893</td>\n",
              "      <td>128.600836</td>\n",
              "      <td>117.489078</td>\n",
              "      <td>122.768937</td>\n",
              "      <td>2.359891e+08</td>\n",
              "      <td>122.770975</td>\n",
              "      <td>128.107383</td>\n",
              "      <td>117.061482</td>\n",
              "      <td>122.326327</td>\n",
              "    </tr>\n",
              "    <tr>\n",
              "      <th>std</th>\n",
              "      <td>55.534480</td>\n",
              "      <td>58.290751</td>\n",
              "      <td>52.561417</td>\n",
              "      <td>55.241004</td>\n",
              "      <td>1.706938e+08</td>\n",
              "      <td>55.248023</td>\n",
              "      <td>58.054413</td>\n",
              "      <td>52.360375</td>\n",
              "      <td>55.061499</td>\n",
              "    </tr>\n",
              "    <tr>\n",
              "      <th>min</th>\n",
              "      <td>49.409107</td>\n",
              "      <td>54.914684</td>\n",
              "      <td>45.979153</td>\n",
              "      <td>49.428272</td>\n",
              "      <td>4.249259e+07</td>\n",
              "      <td>49.409107</td>\n",
              "      <td>54.914684</td>\n",
              "      <td>45.979153</td>\n",
              "      <td>49.428272</td>\n",
              "    </tr>\n",
              "    <tr>\n",
              "      <th>25%</th>\n",
              "      <td>80.785721</td>\n",
              "      <td>83.332512</td>\n",
              "      <td>77.367149</td>\n",
              "      <td>80.373329</td>\n",
              "      <td>1.330732e+08</td>\n",
              "      <td>80.383904</td>\n",
              "      <td>83.316902</td>\n",
              "      <td>76.966553</td>\n",
              "      <td>79.618698</td>\n",
              "    </tr>\n",
              "    <tr>\n",
              "      <th>50%</th>\n",
              "      <td>100.203484</td>\n",
              "      <td>105.344650</td>\n",
              "      <td>95.281731</td>\n",
              "      <td>99.493721</td>\n",
              "      <td>1.882791e+08</td>\n",
              "      <td>99.484825</td>\n",
              "      <td>103.962837</td>\n",
              "      <td>94.957664</td>\n",
              "      <td>99.329384</td>\n",
              "    </tr>\n",
              "    <tr>\n",
              "      <th>75%</th>\n",
              "      <td>163.944214</td>\n",
              "      <td>170.848587</td>\n",
              "      <td>157.399475</td>\n",
              "      <td>163.281372</td>\n",
              "      <td>2.872777e+08</td>\n",
              "      <td>163.292694</td>\n",
              "      <td>170.182877</td>\n",
              "      <td>157.093140</td>\n",
              "      <td>163.266617</td>\n",
              "    </tr>\n",
              "    <tr>\n",
              "      <th>max</th>\n",
              "      <td>276.802246</td>\n",
              "      <td>296.736633</td>\n",
              "      <td>266.038788</td>\n",
              "      <td>276.744568</td>\n",
              "      <td>1.517821e+09</td>\n",
              "      <td>276.802246</td>\n",
              "      <td>296.736633</td>\n",
              "      <td>266.038788</td>\n",
              "      <td>276.744568</td>\n",
              "    </tr>\n",
              "  </tbody>\n",
              "</table>\n",
              "</div>\n",
              "      <button class=\"colab-df-convert\" onclick=\"convertToInteractive('df-94a99197-eea7-4e86-a89b-8d04d371fa02')\"\n",
              "              title=\"Convert this dataframe to an interactive table.\"\n",
              "              style=\"display:none;\">\n",
              "        \n",
              "  <svg xmlns=\"http://www.w3.org/2000/svg\" height=\"24px\"viewBox=\"0 0 24 24\"\n",
              "       width=\"24px\">\n",
              "    <path d=\"M0 0h24v24H0V0z\" fill=\"none\"/>\n",
              "    <path d=\"M18.56 5.44l.94 2.06.94-2.06 2.06-.94-2.06-.94-.94-2.06-.94 2.06-2.06.94zm-11 1L8.5 8.5l.94-2.06 2.06-.94-2.06-.94L8.5 2.5l-.94 2.06-2.06.94zm10 10l.94 2.06.94-2.06 2.06-.94-2.06-.94-.94-2.06-.94 2.06-2.06.94z\"/><path d=\"M17.41 7.96l-1.37-1.37c-.4-.4-.92-.59-1.43-.59-.52 0-1.04.2-1.43.59L10.3 9.45l-7.72 7.72c-.78.78-.78 2.05 0 2.83L4 21.41c.39.39.9.59 1.41.59.51 0 1.02-.2 1.41-.59l7.78-7.78 2.81-2.81c.8-.78.8-2.07 0-2.86zM5.41 20L4 18.59l7.72-7.72 1.47 1.35L5.41 20z\"/>\n",
              "  </svg>\n",
              "      </button>\n",
              "      \n",
              "  <style>\n",
              "    .colab-df-container {\n",
              "      display:flex;\n",
              "      flex-wrap:wrap;\n",
              "      gap: 12px;\n",
              "    }\n",
              "\n",
              "    .colab-df-convert {\n",
              "      background-color: #E8F0FE;\n",
              "      border: none;\n",
              "      border-radius: 50%;\n",
              "      cursor: pointer;\n",
              "      display: none;\n",
              "      fill: #1967D2;\n",
              "      height: 32px;\n",
              "      padding: 0 0 0 0;\n",
              "      width: 32px;\n",
              "    }\n",
              "\n",
              "    .colab-df-convert:hover {\n",
              "      background-color: #E2EBFA;\n",
              "      box-shadow: 0px 1px 2px rgba(60, 64, 67, 0.3), 0px 1px 3px 1px rgba(60, 64, 67, 0.15);\n",
              "      fill: #174EA6;\n",
              "    }\n",
              "\n",
              "    [theme=dark] .colab-df-convert {\n",
              "      background-color: #3B4455;\n",
              "      fill: #D2E3FC;\n",
              "    }\n",
              "\n",
              "    [theme=dark] .colab-df-convert:hover {\n",
              "      background-color: #434B5C;\n",
              "      box-shadow: 0px 1px 3px 1px rgba(0, 0, 0, 0.15);\n",
              "      filter: drop-shadow(0px 1px 2px rgba(0, 0, 0, 0.3));\n",
              "      fill: #FFFFFF;\n",
              "    }\n",
              "  </style>\n",
              "\n",
              "      <script>\n",
              "        const buttonEl =\n",
              "          document.querySelector('#df-94a99197-eea7-4e86-a89b-8d04d371fa02 button.colab-df-convert');\n",
              "        buttonEl.style.display =\n",
              "          google.colab.kernel.accessAllowed ? 'block' : 'none';\n",
              "\n",
              "        async function convertToInteractive(key) {\n",
              "          const element = document.querySelector('#df-94a99197-eea7-4e86-a89b-8d04d371fa02');\n",
              "          const dataTable =\n",
              "            await google.colab.kernel.invokeFunction('convertToInteractive',\n",
              "                                                     [key], {});\n",
              "          if (!dataTable) return;\n",
              "\n",
              "          const docLinkHtml = 'Like what you see? Visit the ' +\n",
              "            '<a target=\"_blank\" href=https://colab.research.google.com/notebooks/data_table.ipynb>data table notebook</a>'\n",
              "            + ' to learn more about interactive tables.';\n",
              "          element.innerHTML = '';\n",
              "          dataTable['output_type'] = 'display_data';\n",
              "          await google.colab.output.renderOutput(dataTable, element);\n",
              "          const docLink = document.createElement('div');\n",
              "          docLink.innerHTML = docLinkHtml;\n",
              "          element.appendChild(docLink);\n",
              "        }\n",
              "      </script>\n",
              "    </div>\n",
              "  </div>\n",
              "  "
            ]
          },
          "metadata": {},
          "execution_count": 7
        }
      ],
      "source": [
        "df_des= aave.describe()\n",
        "df_des"
      ]
    },
    {
      "cell_type": "code",
      "execution_count": null,
      "metadata": {
        "id": "6v8yL0pcrO9g"
      },
      "outputs": [],
      "source": [
        "y_val=aave.drop(['Open', 'High', 'Low', 'Close', 'Volume'], axis = 1)\n",
        "x_data=aave.drop(['Open_1', 'High_1', 'Low_1', 'Close_1', 'Volume'], axis = 1)"
      ]
    },
    {
      "cell_type": "code",
      "execution_count": null,
      "metadata": {
        "colab": {
          "base_uri": "https://localhost:8080/"
        },
        "id": "wHbx3Zn2o-U0",
        "outputId": "5890aaa4-0d29-4479-d2ca-909859b0d480"
      },
      "outputs": [
        {
          "output_type": "stream",
          "name": "stdout",
          "text": [
            "Epoch 1/100\n"
          ]
        },
        {
          "output_type": "stream",
          "name": "stderr",
          "text": [
            "/usr/local/lib/python3.8/dist-packages/keras/optimizers/optimizer_v2/adam.py:110: UserWarning: The `lr` argument is deprecated, use `learning_rate` instead.\n",
            "  super(Adam, self).__init__(name, **kwargs)\n"
          ]
        },
        {
          "output_type": "stream",
          "name": "stdout",
          "text": [
            "31/31 [==============================] - 2s 5ms/step - loss: 28.3922 - accuracy: 0.3425\n",
            "Epoch 2/100\n",
            "31/31 [==============================] - 0s 4ms/step - loss: 8.8768 - accuracy: 0.5945\n",
            "Epoch 3/100\n",
            "31/31 [==============================] - 0s 4ms/step - loss: 9.5933 - accuracy: 0.6630\n",
            "Epoch 4/100\n",
            "31/31 [==============================] - 0s 5ms/step - loss: 8.5868 - accuracy: 0.6055\n",
            "Epoch 5/100\n",
            "31/31 [==============================] - 0s 4ms/step - loss: 7.2126 - accuracy: 0.7397\n",
            "Epoch 6/100\n",
            "31/31 [==============================] - 0s 4ms/step - loss: 8.8606 - accuracy: 0.7425\n",
            "Epoch 7/100\n",
            "31/31 [==============================] - 0s 5ms/step - loss: 11.6988 - accuracy: 0.6712\n",
            "Epoch 8/100\n",
            "31/31 [==============================] - 0s 4ms/step - loss: 7.7382 - accuracy: 0.6904\n",
            "Epoch 9/100\n",
            "31/31 [==============================] - 0s 6ms/step - loss: 6.4121 - accuracy: 0.6466\n",
            "Epoch 10/100\n",
            "31/31 [==============================] - 0s 5ms/step - loss: 6.8918 - accuracy: 0.7425\n",
            "Epoch 11/100\n",
            "31/31 [==============================] - 0s 5ms/step - loss: 6.0909 - accuracy: 0.8575\n",
            "Epoch 12/100\n",
            "31/31 [==============================] - 0s 5ms/step - loss: 7.2714 - accuracy: 0.7644\n",
            "Epoch 13/100\n",
            "31/31 [==============================] - 0s 4ms/step - loss: 5.8234 - accuracy: 0.8904\n",
            "Epoch 14/100\n",
            "31/31 [==============================] - 0s 4ms/step - loss: 8.2311 - accuracy: 0.6055\n",
            "Epoch 15/100\n",
            "31/31 [==============================] - 0s 5ms/step - loss: 7.6097 - accuracy: 0.6658\n",
            "Epoch 16/100\n",
            "31/31 [==============================] - 0s 4ms/step - loss: 6.6325 - accuracy: 0.8274\n",
            "Epoch 17/100\n",
            "31/31 [==============================] - 0s 4ms/step - loss: 5.6448 - accuracy: 0.7260\n",
            "Epoch 18/100\n",
            "31/31 [==============================] - 0s 5ms/step - loss: 5.1382 - accuracy: 0.8685\n",
            "Epoch 19/100\n",
            "31/31 [==============================] - 0s 6ms/step - loss: 7.4976 - accuracy: 0.4959\n",
            "Epoch 20/100\n",
            "31/31 [==============================] - 0s 4ms/step - loss: 5.8506 - accuracy: 0.8959\n",
            "Epoch 21/100\n",
            "31/31 [==============================] - 0s 6ms/step - loss: 7.0703 - accuracy: 0.7644\n",
            "Epoch 22/100\n",
            "31/31 [==============================] - 0s 6ms/step - loss: 4.9579 - accuracy: 0.7699\n",
            "Epoch 23/100\n",
            "31/31 [==============================] - 0s 5ms/step - loss: 5.6408 - accuracy: 0.7425\n",
            "Epoch 24/100\n",
            "31/31 [==============================] - 0s 4ms/step - loss: 7.0540 - accuracy: 0.7315\n",
            "Epoch 25/100\n",
            "31/31 [==============================] - 0s 5ms/step - loss: 5.7492 - accuracy: 0.6384\n",
            "Epoch 26/100\n",
            "31/31 [==============================] - 0s 4ms/step - loss: 5.5278 - accuracy: 0.7863\n",
            "Epoch 27/100\n",
            "31/31 [==============================] - 0s 4ms/step - loss: 7.5112 - accuracy: 0.7890\n",
            "Epoch 28/100\n",
            "31/31 [==============================] - 0s 5ms/step - loss: 6.9434 - accuracy: 0.8192\n",
            "Epoch 29/100\n",
            "31/31 [==============================] - 0s 5ms/step - loss: 8.9614 - accuracy: 0.7562\n",
            "Epoch 30/100\n",
            "31/31 [==============================] - 0s 4ms/step - loss: 7.6216 - accuracy: 0.9589\n",
            "Epoch 31/100\n",
            "31/31 [==============================] - 0s 5ms/step - loss: 7.3286 - accuracy: 0.9836\n",
            "Epoch 32/100\n",
            "31/31 [==============================] - 0s 5ms/step - loss: 4.8737 - accuracy: 0.9233\n",
            "Epoch 33/100\n",
            "31/31 [==============================] - 0s 5ms/step - loss: 5.7539 - accuracy: 0.8904\n",
            "Epoch 34/100\n",
            "31/31 [==============================] - 0s 4ms/step - loss: 4.4244 - accuracy: 0.9671\n",
            "Epoch 35/100\n",
            "31/31 [==============================] - 0s 7ms/step - loss: 4.9299 - accuracy: 0.7918\n",
            "Epoch 36/100\n",
            "31/31 [==============================] - 0s 7ms/step - loss: 6.8726 - accuracy: 0.7260\n",
            "Epoch 37/100\n",
            "31/31 [==============================] - 0s 4ms/step - loss: 5.2638 - accuracy: 0.9178\n",
            "Epoch 38/100\n",
            "31/31 [==============================] - 0s 6ms/step - loss: 4.9638 - accuracy: 0.9836\n",
            "Epoch 39/100\n",
            "31/31 [==============================] - 0s 4ms/step - loss: 5.2910 - accuracy: 0.9178\n",
            "Epoch 40/100\n",
            "31/31 [==============================] - 0s 4ms/step - loss: 6.0124 - accuracy: 0.9726\n",
            "Epoch 41/100\n",
            "31/31 [==============================] - 0s 5ms/step - loss: 6.0613 - accuracy: 0.8932\n",
            "Epoch 42/100\n",
            "31/31 [==============================] - 0s 6ms/step - loss: 5.7525 - accuracy: 0.8712\n",
            "Epoch 43/100\n",
            "31/31 [==============================] - 0s 6ms/step - loss: 7.7336 - accuracy: 0.9836\n",
            "Epoch 44/100\n",
            "31/31 [==============================] - 0s 7ms/step - loss: 7.9994 - accuracy: 0.9836\n",
            "Epoch 45/100\n",
            "31/31 [==============================] - 0s 7ms/step - loss: 5.5179 - accuracy: 0.9836\n",
            "Epoch 46/100\n",
            "31/31 [==============================] - 0s 5ms/step - loss: 7.1486 - accuracy: 0.8603\n",
            "Epoch 47/100\n",
            "31/31 [==============================] - 0s 6ms/step - loss: 5.2062 - accuracy: 0.9260\n",
            "Epoch 48/100\n",
            "31/31 [==============================] - 0s 4ms/step - loss: 5.7463 - accuracy: 0.8795\n",
            "Epoch 49/100\n",
            "31/31 [==============================] - 0s 5ms/step - loss: 4.8157 - accuracy: 0.9644\n",
            "Epoch 50/100\n",
            "31/31 [==============================] - 0s 6ms/step - loss: 4.7397 - accuracy: 0.9836\n",
            "Epoch 51/100\n",
            "31/31 [==============================] - 0s 7ms/step - loss: 5.6485 - accuracy: 0.9836\n",
            "Epoch 52/100\n",
            "31/31 [==============================] - 0s 6ms/step - loss: 4.7160 - accuracy: 0.8849\n",
            "Epoch 53/100\n",
            "31/31 [==============================] - 0s 6ms/step - loss: 6.2618 - accuracy: 0.8384\n",
            "Epoch 54/100\n",
            "31/31 [==============================] - 0s 6ms/step - loss: 7.0943 - accuracy: 0.8904\n",
            "Epoch 55/100\n",
            "31/31 [==============================] - 0s 5ms/step - loss: 5.0007 - accuracy: 0.9068\n",
            "Epoch 56/100\n",
            "31/31 [==============================] - 0s 6ms/step - loss: 5.8054 - accuracy: 0.8438\n",
            "Epoch 57/100\n",
            "31/31 [==============================] - 0s 5ms/step - loss: 5.5763 - accuracy: 0.7068\n",
            "Epoch 58/100\n",
            "31/31 [==============================] - 0s 6ms/step - loss: 4.4813 - accuracy: 0.9808\n",
            "Epoch 59/100\n",
            "31/31 [==============================] - 0s 6ms/step - loss: 4.4219 - accuracy: 0.8712\n",
            "Epoch 60/100\n",
            "31/31 [==============================] - 0s 5ms/step - loss: 5.1578 - accuracy: 0.8356\n",
            "Epoch 61/100\n",
            "31/31 [==============================] - 0s 5ms/step - loss: 4.9001 - accuracy: 0.7945\n",
            "Epoch 62/100\n",
            "31/31 [==============================] - 0s 3ms/step - loss: 4.8911 - accuracy: 0.8000\n",
            "Epoch 63/100\n",
            "31/31 [==============================] - 0s 3ms/step - loss: 4.2409 - accuracy: 0.9562\n",
            "Epoch 64/100\n",
            "31/31 [==============================] - 0s 3ms/step - loss: 4.6996 - accuracy: 0.9836\n",
            "Epoch 65/100\n",
            "31/31 [==============================] - 0s 3ms/step - loss: 5.1830 - accuracy: 0.9836\n",
            "Epoch 66/100\n",
            "31/31 [==============================] - 0s 3ms/step - loss: 6.3416 - accuracy: 0.9781\n",
            "Epoch 67/100\n",
            "31/31 [==============================] - 0s 3ms/step - loss: 4.9910 - accuracy: 0.9836\n",
            "Epoch 68/100\n",
            "31/31 [==============================] - 0s 3ms/step - loss: 5.3666 - accuracy: 0.9836\n",
            "Epoch 69/100\n",
            "31/31 [==============================] - 0s 3ms/step - loss: 5.3957 - accuracy: 0.9671\n",
            "Epoch 70/100\n",
            "31/31 [==============================] - 0s 3ms/step - loss: 5.1275 - accuracy: 0.9808\n",
            "Epoch 71/100\n",
            "31/31 [==============================] - 0s 3ms/step - loss: 4.5868 - accuracy: 0.9836\n",
            "Epoch 72/100\n",
            "31/31 [==============================] - 0s 3ms/step - loss: 4.3640 - accuracy: 0.8411\n",
            "Epoch 73/100\n",
            "31/31 [==============================] - 0s 3ms/step - loss: 5.1377 - accuracy: 0.9836\n",
            "Epoch 74/100\n",
            "31/31 [==============================] - 0s 3ms/step - loss: 4.7442 - accuracy: 0.9260\n",
            "Epoch 75/100\n",
            "31/31 [==============================] - 0s 3ms/step - loss: 4.8291 - accuracy: 0.9836\n",
            "Epoch 76/100\n",
            "31/31 [==============================] - 0s 3ms/step - loss: 4.7784 - accuracy: 0.8685\n",
            "Epoch 77/100\n",
            "31/31 [==============================] - 0s 3ms/step - loss: 5.3077 - accuracy: 0.8932\n",
            "Epoch 78/100\n",
            "31/31 [==============================] - 0s 3ms/step - loss: 5.4896 - accuracy: 0.8740\n",
            "Epoch 79/100\n",
            "31/31 [==============================] - 0s 3ms/step - loss: 5.4682 - accuracy: 0.9836\n",
            "Epoch 80/100\n",
            "31/31 [==============================] - 0s 3ms/step - loss: 5.2733 - accuracy: 0.9836\n",
            "Epoch 81/100\n",
            "31/31 [==============================] - 0s 3ms/step - loss: 5.6876 - accuracy: 0.9014\n",
            "Epoch 82/100\n",
            "31/31 [==============================] - 0s 3ms/step - loss: 5.2399 - accuracy: 0.9836\n",
            "Epoch 83/100\n",
            "31/31 [==============================] - 0s 3ms/step - loss: 4.9750 - accuracy: 0.8685\n",
            "Epoch 84/100\n",
            "31/31 [==============================] - 0s 3ms/step - loss: 4.9558 - accuracy: 0.9726\n",
            "Epoch 85/100\n",
            "31/31 [==============================] - 0s 3ms/step - loss: 4.5467 - accuracy: 0.9507\n",
            "Epoch 86/100\n",
            "31/31 [==============================] - 0s 3ms/step - loss: 5.6944 - accuracy: 0.8548\n",
            "Epoch 87/100\n",
            "31/31 [==============================] - 0s 3ms/step - loss: 6.0536 - accuracy: 0.7479\n",
            "Epoch 88/100\n",
            "31/31 [==============================] - 0s 3ms/step - loss: 4.8244 - accuracy: 0.9836\n",
            "Epoch 89/100\n",
            "31/31 [==============================] - 0s 3ms/step - loss: 5.6028 - accuracy: 0.8630\n",
            "Epoch 90/100\n",
            "31/31 [==============================] - 0s 3ms/step - loss: 5.0968 - accuracy: 0.9671\n",
            "Epoch 91/100\n",
            "31/31 [==============================] - 0s 3ms/step - loss: 4.8688 - accuracy: 0.9836\n",
            "Epoch 92/100\n",
            "31/31 [==============================] - 0s 3ms/step - loss: 5.3471 - accuracy: 0.9836\n",
            "Epoch 93/100\n",
            "31/31 [==============================] - 0s 3ms/step - loss: 4.5998 - accuracy: 0.9808\n",
            "Epoch 94/100\n",
            "31/31 [==============================] - 0s 3ms/step - loss: 5.5063 - accuracy: 0.8877\n",
            "Epoch 95/100\n",
            "31/31 [==============================] - 0s 3ms/step - loss: 5.7433 - accuracy: 0.9836\n",
            "Epoch 96/100\n",
            "31/31 [==============================] - 0s 3ms/step - loss: 5.0726 - accuracy: 0.8932\n",
            "Epoch 97/100\n",
            "31/31 [==============================] - 0s 3ms/step - loss: 5.0548 - accuracy: 0.9370\n",
            "Epoch 98/100\n",
            "31/31 [==============================] - 0s 3ms/step - loss: 5.7622 - accuracy: 0.9836\n",
            "Epoch 99/100\n",
            "31/31 [==============================] - 0s 3ms/step - loss: 5.6634 - accuracy: 0.8685\n",
            "Epoch 100/100\n",
            "31/31 [==============================] - 0s 3ms/step - loss: 5.4049 - accuracy: 0.9836\n"
          ]
        }
      ],
      "source": [
        "\n",
        "\n",
        "model_1 = tf.keras.Sequential([\n",
        "                               tf.keras.layers.Dense(4, input_shape=[4] ,activation = leaky_relu),\n",
        "                               tf.keras.layers.Dense(100 ,activation = leaky_relu),\n",
        "                               tf.keras.layers.Dense(100 ,activation = leaky_relu),\n",
        "                               tf.keras.layers.Dense(100 ,activation = leaky_relu),\n",
        "                               tf.keras.layers.Dense(4,activation = leaky_relu),\n",
        "\n",
        "])\n",
        "\n",
        "model_1.compile(loss = 'MAE',\n",
        "                optimizer =tf.keras.optimizers.Adam(lr = 0.01),\n",
        "                metrics = ['accuracy'])\n",
        "\n",
        "history_1 = model_1.fit(tf.expand_dims(x_data, axis=-1), y_val, batch_size=12, epochs = 100, verbose = 1)"
      ]
    },
    {
      "cell_type": "code",
      "execution_count": null,
      "metadata": {
        "id": "G949NDuKg3cC",
        "colab": {
          "base_uri": "https://localhost:8080/",
          "height": 639
        },
        "outputId": "048b520a-50d0-4233-8816-05f7540421f6"
      },
      "outputs": [
        {
          "output_type": "execute_result",
          "data": {
            "text/plain": [
              "<matplotlib.axes._subplots.AxesSubplot at 0x7f97306635e0>"
            ]
          },
          "metadata": {},
          "execution_count": 11
        },
        {
          "output_type": "display_data",
          "data": {
            "text/plain": [
              "<Figure size 720x720 with 1 Axes>"
            ],
            "image/png": "[encoded data removed]"
          },
          "metadata": {
            "needs_background": "light"
          }
        }
      ],
      "source": [
        "df_his_1 = pd.DataFrame(history_1.history)\n",
        "df_his_1['loss'].plot(figsize= (10,10), xlabel= 'Epochs', ylabel= 'Loss', title = 'Loss Curve')"
      ]
    },
    {
      "cell_type": "code",
      "execution_count": null,
      "metadata": {
        "id": "MI5xWQOOiX-n",
        "colab": {
          "base_uri": "https://localhost:8080/",
          "height": 639
        },
        "outputId": "6c5626df-a2e2-4057-c16b-d29c9e15d783"
      },
      "outputs": [
        {
          "output_type": "execute_result",
          "data": {
            "text/plain": [
              "<matplotlib.axes._subplots.AxesSubplot at 0x7f973036de80>"
            ]
          },
          "metadata": {},
          "execution_count": 12
        },
        {
          "output_type": "display_data",
          "data": {
            "text/plain": [
              "<Figure size 720x720 with 1 Axes>"
            ],
            "image/png": "[encoded data removed]"
          },
          "metadata": {
            "needs_background": "light"
          }
        }
      ],
      "source": [
        "df_his_1['accuracy'] = df_his_1['accuracy']*100\n",
        "df_his_1['accuracy'].plot(figsize= (10,10), xlabel= 'Epochs', ylabel= 'Accuracy(%)', title = 'Accuracy Curve')"
      ]
    },
    {
      "cell_type": "markdown",
      "source": [
        "##Testing AAVE Model\n",
        "\n",
        "Here, the exisitng day value is taken and check the validity for the preciding day."
      ],
      "metadata": {
        "id": "8eKeEEu-Xggq"
      }
    },
    {
      "cell_type": "code",
      "execution_count": null,
      "metadata": {
        "colab": {
          "base_uri": "https://localhost:8080/",
          "height": 206
        },
        "id": "a2QPe2cQij4L",
        "outputId": "b510c5ce-3395-4e78-b2c4-723cbb140714"
      },
      "outputs": [
        {
          "output_type": "execute_result",
          "data": {
            "text/plain": [
              "         Open        High         Low       Close     Volume      Open_1  \\\n",
              "0  244.841919  246.194611  219.909363  225.629776  241365943  226.138626   \n",
              "1  226.138626  226.292923  162.339096  202.915970  610712251  202.629684   \n",
              "2  202.629684  206.034790  187.302673  191.749329  270580588  191.771362   \n",
              "3  191.771362  191.857620  168.934967  185.207870  387818841  185.281647   \n",
              "4  185.281647  197.220306  181.133453  187.604935  282131643  187.159836   \n",
              "\n",
              "       High_1       Low_1     Close_1  \n",
              "0  226.292923  162.339096  202.915970  \n",
              "1  206.034790  187.302673  191.749329  \n",
              "2  191.857620  168.934967  185.207870  \n",
              "3  197.220306  181.133453  187.604935  \n",
              "4  202.616745  179.955292  202.616745  "
            ],
            "text/html": [
              "\n",
              "  <div id=\"df-25c5ae3a-cb13-4371-b89b-a46c898982c4\">\n",
              "    <div class=\"colab-df-container\">\n",
              "      <div>\n",
              "<style scoped>\n",
              "    .dataframe tbody tr th:only-of-type {\n",
              "        vertical-align: middle;\n",
              "    }\n",
              "\n",
              "    .dataframe tbody tr th {\n",
              "        vertical-align: top;\n",
              "    }\n",
              "\n",
              "    .dataframe thead th {\n",
              "        text-align: right;\n",
              "    }\n",
              "</style>\n",
              "<table border=\"1\" class=\"dataframe\">\n",
              "  <thead>\n",
              "    <tr style=\"text-align: right;\">\n",
              "      <th></th>\n",
              "      <th>Open</th>\n",
              "      <th>High</th>\n",
              "      <th>Low</th>\n",
              "      <th>Close</th>\n",
              "      <th>Volume</th>\n",
              "      <th>Open_1</th>\n",
              "      <th>High_1</th>\n",
              "      <th>Low_1</th>\n",
              "      <th>Close_1</th>\n",
              "    </tr>\n",
              "  </thead>\n",
              "  <tbody>\n",
              "    <tr>\n",
              "      <th>0</th>\n",
              "      <td>244.841919</td>\n",
              "      <td>246.194611</td>\n",
              "      <td>219.909363</td>\n",
              "      <td>225.629776</td>\n",
              "      <td>241365943</td>\n",
              "      <td>226.138626</td>\n",
              "      <td>226.292923</td>\n",
              "      <td>162.339096</td>\n",
              "      <td>202.915970</td>\n",
              "    </tr>\n",
              "    <tr>\n",
              "      <th>1</th>\n",
              "      <td>226.138626</td>\n",
              "      <td>226.292923</td>\n",
              "      <td>162.339096</td>\n",
              "      <td>202.915970</td>\n",
              "      <td>610712251</td>\n",
              "      <td>202.629684</td>\n",
              "      <td>206.034790</td>\n",
              "      <td>187.302673</td>\n",
              "      <td>191.749329</td>\n",
              "    </tr>\n",
              "    <tr>\n",
              "      <th>2</th>\n",
              "      <td>202.629684</td>\n",
              "      <td>206.034790</td>\n",
              "      <td>187.302673</td>\n",
              "      <td>191.749329</td>\n",
              "      <td>270580588</td>\n",
              "      <td>191.771362</td>\n",
              "      <td>191.857620</td>\n",
              "      <td>168.934967</td>\n",
              "      <td>185.207870</td>\n",
              "    </tr>\n",
              "    <tr>\n",
              "      <th>3</th>\n",
              "      <td>191.771362</td>\n",
              "      <td>191.857620</td>\n",
              "      <td>168.934967</td>\n",
              "      <td>185.207870</td>\n",
              "      <td>387818841</td>\n",
              "      <td>185.281647</td>\n",
              "      <td>197.220306</td>\n",
              "      <td>181.133453</td>\n",
              "      <td>187.604935</td>\n",
              "    </tr>\n",
              "    <tr>\n",
              "      <th>4</th>\n",
              "      <td>185.281647</td>\n",
              "      <td>197.220306</td>\n",
              "      <td>181.133453</td>\n",
              "      <td>187.604935</td>\n",
              "      <td>282131643</td>\n",
              "      <td>187.159836</td>\n",
              "      <td>202.616745</td>\n",
              "      <td>179.955292</td>\n",
              "      <td>202.616745</td>\n",
              "    </tr>\n",
              "  </tbody>\n",
              "</table>\n",
              "</div>\n",
              "      <button class=\"colab-df-convert\" onclick=\"convertToInteractive('df-25c5ae3a-cb13-4371-b89b-a46c898982c4')\"\n",
              "              title=\"Convert this dataframe to an interactive table.\"\n",
              "              style=\"display:none;\">\n",
              "        \n",
              "  <svg xmlns=\"http://www.w3.org/2000/svg\" height=\"24px\"viewBox=\"0 0 24 24\"\n",
              "       width=\"24px\">\n",
              "    <path d=\"M0 0h24v24H0V0z\" fill=\"none\"/>\n",
              "    <path d=\"M18.56 5.44l.94 2.06.94-2.06 2.06-.94-2.06-.94-.94-2.06-.94 2.06-2.06.94zm-11 1L8.5 8.5l.94-2.06 2.06-.94-2.06-.94L8.5 2.5l-.94 2.06-2.06.94zm10 10l.94 2.06.94-2.06 2.06-.94-2.06-.94-.94-2.06-.94 2.06-2.06.94z\"/><path d=\"M17.41 7.96l-1.37-1.37c-.4-.4-.92-.59-1.43-.59-.52 0-1.04.2-1.43.59L10.3 9.45l-7.72 7.72c-.78.78-.78 2.05 0 2.83L4 21.41c.39.39.9.59 1.41.59.51 0 1.02-.2 1.41-.59l7.78-7.78 2.81-2.81c.8-.78.8-2.07 0-2.86zM5.41 20L4 18.59l7.72-7.72 1.47 1.35L5.41 20z\"/>\n",
              "  </svg>\n",
              "      </button>\n",
              "      \n",
              "  <style>\n",
              "    .colab-df-container {\n",
              "      display:flex;\n",
              "      flex-wrap:wrap;\n",
              "      gap: 12px;\n",
              "    }\n",
              "\n",
              "    .colab-df-convert {\n",
              "      background-color: #E8F0FE;\n",
              "      border: none;\n",
              "      border-radius: 50%;\n",
              "      cursor: pointer;\n",
              "      display: none;\n",
              "      fill: #1967D2;\n",
              "      height: 32px;\n",
              "      padding: 0 0 0 0;\n",
              "      width: 32px;\n",
              "    }\n",
              "\n",
              "    .colab-df-convert:hover {\n",
              "      background-color: #E2EBFA;\n",
              "      box-shadow: 0px 1px 2px rgba(60, 64, 67, 0.3), 0px 1px 3px 1px rgba(60, 64, 67, 0.15);\n",
              "      fill: #174EA6;\n",
              "    }\n",
              "\n",
              "    [theme=dark] .colab-df-convert {\n",
              "      background-color: #3B4455;\n",
              "      fill: #D2E3FC;\n",
              "    }\n",
              "\n",
              "    [theme=dark] .colab-df-convert:hover {\n",
              "      background-color: #434B5C;\n",
              "      box-shadow: 0px 1px 3px 1px rgba(0, 0, 0, 0.15);\n",
              "      filter: drop-shadow(0px 1px 2px rgba(0, 0, 0, 0.3));\n",
              "      fill: #FFFFFF;\n",
              "    }\n",
              "  </style>\n",
              "\n",
              "      <script>\n",
              "        const buttonEl =\n",
              "          document.querySelector('#df-25c5ae3a-cb13-4371-b89b-a46c898982c4 button.colab-df-convert');\n",
              "        buttonEl.style.display =\n",
              "          google.colab.kernel.accessAllowed ? 'block' : 'none';\n",
              "\n",
              "        async function convertToInteractive(key) {\n",
              "          const element = document.querySelector('#df-25c5ae3a-cb13-4371-b89b-a46c898982c4');\n",
              "          const dataTable =\n",
              "            await google.colab.kernel.invokeFunction('convertToInteractive',\n",
              "                                                     [key], {});\n",
              "          if (!dataTable) return;\n",
              "\n",
              "          const docLinkHtml = 'Like what you see? Visit the ' +\n",
              "            '<a target=\"_blank\" href=https://colab.research.google.com/notebooks/data_table.ipynb>data table notebook</a>'\n",
              "            + ' to learn more about interactive tables.';\n",
              "          element.innerHTML = '';\n",
              "          dataTable['output_type'] = 'display_data';\n",
              "          await google.colab.output.renderOutput(dataTable, element);\n",
              "          const docLink = document.createElement('div');\n",
              "          docLink.innerHTML = docLinkHtml;\n",
              "          element.appendChild(docLink);\n",
              "        }\n",
              "      </script>\n",
              "    </div>\n",
              "  </div>\n",
              "  "
            ]
          },
          "metadata": {},
          "execution_count": 13
        }
      ],
      "source": [
        "aave.head()"
      ]
    },
    {
      "cell_type": "code",
      "execution_count": null,
      "metadata": {
        "id": "w8WIB6uS9Qxf"
      },
      "outputs": [],
      "source": [
        "model_1.save('model_aave.h5') #saving model"
      ]
    },
    {
      "cell_type": "code",
      "execution_count": null,
      "metadata": {
        "colab": {
          "base_uri": "https://localhost:8080/"
        },
        "id": "CNPXybs2Bb6S",
        "outputId": "1fa9b15b-8bdc-4db5-a64a-23ecb3bf1e76"
      },
      "outputs": [
        {
          "output_type": "stream",
          "name": "stdout",
          "text": [
            "1/1 [==============================] - 0s 74ms/step\n",
            "Predicted Open: 229.1005096435547, Predicted High: 239.2012176513672\n"
          ]
        }
      ],
      "source": [
        "path_model_1 = f'/content/model_aave.h5'\n",
        "fun_predict([aave['Open'][0], aave['High'][0], aave['Low'][0], aave['Close'][0]], path_model_1)"
      ]
    },
    {
      "cell_type": "markdown",
      "source": [
        "#Predictive Analysis of SOLANA"
      ],
      "metadata": {
        "id": "QX2_Uh-mb7e4"
      }
    },
    {
      "cell_type": "code",
      "execution_count": null,
      "metadata": {
        "id": "d8OkTyexC0ij"
      },
      "outputs": [],
      "source": [
        "X_sol, y_sol = data_prep(sol)"
      ]
    },
    {
      "cell_type": "code",
      "execution_count": null,
      "metadata": {
        "id": "Cl2-Hf85DJaz",
        "colab": {
          "base_uri": "https://localhost:8080/"
        },
        "outputId": "0b5e0025-b281-43bb-b957-ac459b7f3b72"
      },
      "outputs": [
        {
          "output_type": "stream",
          "name": "stdout",
          "text": [
            "Epoch 1/100\n"
          ]
        },
        {
          "output_type": "stream",
          "name": "stderr",
          "text": [
            "/usr/local/lib/python3.8/dist-packages/keras/optimizers/optimizer_v2/adam.py:110: UserWarning: The `lr` argument is deprecated, use `learning_rate` instead.\n",
            "  super(Adam, self).__init__(name, **kwargs)\n"
          ]
        },
        {
          "output_type": "stream",
          "name": "stdout",
          "text": [
            "12/12 [==============================] - 1s 7ms/step - loss: 69.6641 - accuracy: 0.9534\n",
            "Epoch 2/100\n",
            "12/12 [==============================] - 0s 7ms/step - loss: 61.4269 - accuracy: 0.4164\n",
            "Epoch 3/100\n",
            "12/12 [==============================] - 0s 3ms/step - loss: 34.7061 - accuracy: 0.0000e+00\n",
            "Epoch 4/100\n",
            "12/12 [==============================] - 0s 4ms/step - loss: 24.8921 - accuracy: 0.7151\n",
            "Epoch 5/100\n",
            "12/12 [==============================] - 0s 3ms/step - loss: 22.3570 - accuracy: 0.5370\n",
            "Epoch 6/100\n",
            "12/12 [==============================] - 0s 3ms/step - loss: 22.0841 - accuracy: 0.9671\n",
            "Epoch 7/100\n",
            "12/12 [==============================] - 0s 3ms/step - loss: 21.8200 - accuracy: 0.9671\n",
            "Epoch 8/100\n",
            "12/12 [==============================] - 0s 3ms/step - loss: 21.8846 - accuracy: 0.9671\n",
            "Epoch 9/100\n",
            "12/12 [==============================] - 0s 3ms/step - loss: 21.7612 - accuracy: 0.9671\n",
            "Epoch 10/100\n",
            "12/12 [==============================] - 0s 3ms/step - loss: 20.8543 - accuracy: 0.9671\n",
            "Epoch 11/100\n",
            "12/12 [==============================] - 0s 4ms/step - loss: 20.1876 - accuracy: 0.9671\n",
            "Epoch 12/100\n",
            "12/12 [==============================] - 0s 3ms/step - loss: 20.2493 - accuracy: 0.9671\n",
            "Epoch 13/100\n",
            "12/12 [==============================] - 0s 3ms/step - loss: 20.0167 - accuracy: 0.9671\n",
            "Epoch 14/100\n",
            "12/12 [==============================] - 0s 3ms/step - loss: 19.8994 - accuracy: 0.9671\n",
            "Epoch 15/100\n",
            "12/12 [==============================] - 0s 3ms/step - loss: 20.0559 - accuracy: 0.9671\n",
            "Epoch 16/100\n",
            "12/12 [==============================] - 0s 4ms/step - loss: 19.8906 - accuracy: 0.9671\n",
            "Epoch 17/100\n",
            "12/12 [==============================] - 0s 3ms/step - loss: 19.8522 - accuracy: 0.9671\n",
            "Epoch 18/100\n",
            "12/12 [==============================] - 0s 3ms/step - loss: 19.8255 - accuracy: 0.9671\n",
            "Epoch 19/100\n",
            "12/12 [==============================] - 0s 3ms/step - loss: 19.7914 - accuracy: 0.9671\n",
            "Epoch 20/100\n",
            "12/12 [==============================] - 0s 3ms/step - loss: 19.8848 - accuracy: 0.9671\n",
            "Epoch 21/100\n",
            "12/12 [==============================] - 0s 4ms/step - loss: 19.7845 - accuracy: 0.9671\n",
            "Epoch 22/100\n",
            "12/12 [==============================] - 0s 3ms/step - loss: 19.6703 - accuracy: 0.9671\n",
            "Epoch 23/100\n",
            "12/12 [==============================] - 0s 3ms/step - loss: 19.6627 - accuracy: 0.9671\n",
            "Epoch 24/100\n",
            "12/12 [==============================] - 0s 3ms/step - loss: 19.7308 - accuracy: 0.9671\n",
            "Epoch 25/100\n",
            "12/12 [==============================] - 0s 3ms/step - loss: 19.6556 - accuracy: 0.9671\n",
            "Epoch 26/100\n",
            "12/12 [==============================] - 0s 3ms/step - loss: 19.7987 - accuracy: 0.9671\n",
            "Epoch 27/100\n",
            "12/12 [==============================] - 0s 3ms/step - loss: 19.7369 - accuracy: 0.9671\n",
            "Epoch 28/100\n",
            "12/12 [==============================] - 0s 3ms/step - loss: 19.5738 - accuracy: 0.9671\n",
            "Epoch 29/100\n",
            "12/12 [==============================] - 0s 3ms/step - loss: 19.6716 - accuracy: 0.9671\n",
            "Epoch 30/100\n",
            "12/12 [==============================] - 0s 3ms/step - loss: 19.7876 - accuracy: 0.9671\n",
            "Epoch 31/100\n",
            "12/12 [==============================] - 0s 4ms/step - loss: 19.6841 - accuracy: 0.9671\n",
            "Epoch 32/100\n",
            "12/12 [==============================] - 0s 4ms/step - loss: 19.6647 - accuracy: 0.9671\n",
            "Epoch 33/100\n",
            "12/12 [==============================] - 0s 3ms/step - loss: 19.6094 - accuracy: 0.9671\n",
            "Epoch 34/100\n",
            "12/12 [==============================] - 0s 3ms/step - loss: 19.4945 - accuracy: 0.9671\n",
            "Epoch 35/100\n",
            "12/12 [==============================] - 0s 3ms/step - loss: 19.5582 - accuracy: 0.9644\n",
            "Epoch 36/100\n",
            "12/12 [==============================] - 0s 3ms/step - loss: 19.5495 - accuracy: 0.9671\n",
            "Epoch 37/100\n",
            "12/12 [==============================] - 0s 3ms/step - loss: 19.6149 - accuracy: 0.9671\n",
            "Epoch 38/100\n",
            "12/12 [==============================] - 0s 3ms/step - loss: 19.4697 - accuracy: 0.9671\n",
            "Epoch 39/100\n",
            "12/12 [==============================] - 0s 3ms/step - loss: 19.4763 - accuracy: 0.9671\n",
            "Epoch 40/100\n",
            "12/12 [==============================] - 0s 3ms/step - loss: 19.4695 - accuracy: 0.9671\n",
            "Epoch 41/100\n",
            "12/12 [==============================] - 0s 3ms/step - loss: 19.4908 - accuracy: 0.9671\n",
            "Epoch 42/100\n",
            "12/12 [==============================] - 0s 4ms/step - loss: 19.6178 - accuracy: 0.8548\n",
            "Epoch 43/100\n",
            "12/12 [==============================] - 0s 3ms/step - loss: 19.4669 - accuracy: 0.9671\n",
            "Epoch 44/100\n",
            "12/12 [==============================] - 0s 3ms/step - loss: 19.4562 - accuracy: 0.9671\n",
            "Epoch 45/100\n",
            "12/12 [==============================] - 0s 3ms/step - loss: 19.5303 - accuracy: 0.9671\n",
            "Epoch 46/100\n",
            "12/12 [==============================] - 0s 3ms/step - loss: 19.4854 - accuracy: 0.9671\n",
            "Epoch 47/100\n",
            "12/12 [==============================] - 0s 3ms/step - loss: 19.3803 - accuracy: 0.9671\n",
            "Epoch 48/100\n",
            "12/12 [==============================] - 0s 3ms/step - loss: 19.3731 - accuracy: 0.9671\n",
            "Epoch 49/100\n",
            "12/12 [==============================] - 0s 3ms/step - loss: 19.3673 - accuracy: 0.9671\n",
            "Epoch 50/100\n",
            "12/12 [==============================] - 0s 3ms/step - loss: 19.3715 - accuracy: 0.9671\n",
            "Epoch 51/100\n",
            "12/12 [==============================] - 0s 3ms/step - loss: 19.4745 - accuracy: 0.9671\n",
            "Epoch 52/100\n",
            "12/12 [==============================] - 0s 3ms/step - loss: 19.4433 - accuracy: 0.9671\n",
            "Epoch 53/100\n",
            "12/12 [==============================] - 0s 4ms/step - loss: 19.3099 - accuracy: 0.9671\n",
            "Epoch 54/100\n",
            "12/12 [==============================] - 0s 4ms/step - loss: 19.3540 - accuracy: 0.9671\n",
            "Epoch 55/100\n",
            "12/12 [==============================] - 0s 3ms/step - loss: 19.3532 - accuracy: 0.9671\n",
            "Epoch 56/100\n",
            "12/12 [==============================] - 0s 3ms/step - loss: 19.4722 - accuracy: 0.9671\n",
            "Epoch 57/100\n",
            "12/12 [==============================] - 0s 3ms/step - loss: 19.3983 - accuracy: 0.9671\n",
            "Epoch 58/100\n",
            "12/12 [==============================] - 0s 4ms/step - loss: 19.2615 - accuracy: 0.9671\n",
            "Epoch 59/100\n",
            "12/12 [==============================] - 0s 4ms/step - loss: 19.2469 - accuracy: 0.9671\n",
            "Epoch 60/100\n",
            "12/12 [==============================] - 0s 3ms/step - loss: 19.2856 - accuracy: 0.9671\n",
            "Epoch 61/100\n",
            "12/12 [==============================] - 0s 3ms/step - loss: 19.3319 - accuracy: 0.9671\n",
            "Epoch 62/100\n",
            "12/12 [==============================] - 0s 3ms/step - loss: 19.2658 - accuracy: 0.9671\n",
            "Epoch 63/100\n",
            "12/12 [==============================] - 0s 3ms/step - loss: 19.2962 - accuracy: 0.9671\n",
            "Epoch 64/100\n",
            "12/12 [==============================] - 0s 3ms/step - loss: 19.3043 - accuracy: 0.9671\n",
            "Epoch 65/100\n",
            "12/12 [==============================] - 0s 3ms/step - loss: 19.3849 - accuracy: 0.9671\n",
            "Epoch 66/100\n",
            "12/12 [==============================] - 0s 3ms/step - loss: 19.4005 - accuracy: 0.9671\n",
            "Epoch 67/100\n",
            "12/12 [==============================] - 0s 3ms/step - loss: 19.3057 - accuracy: 0.9671\n",
            "Epoch 68/100\n",
            "12/12 [==============================] - 0s 3ms/step - loss: 19.3268 - accuracy: 0.9671\n",
            "Epoch 69/100\n",
            "12/12 [==============================] - 0s 3ms/step - loss: 19.5354 - accuracy: 0.9671\n",
            "Epoch 70/100\n",
            "12/12 [==============================] - 0s 3ms/step - loss: 19.5550 - accuracy: 0.9671\n",
            "Epoch 71/100\n",
            "12/12 [==============================] - 0s 3ms/step - loss: 19.4472 - accuracy: 0.9671\n",
            "Epoch 72/100\n",
            "12/12 [==============================] - 0s 3ms/step - loss: 19.3000 - accuracy: 0.8877\n",
            "Epoch 73/100\n",
            "12/12 [==============================] - 0s 3ms/step - loss: 19.3109 - accuracy: 0.9671\n",
            "Epoch 74/100\n",
            "12/12 [==============================] - 0s 3ms/step - loss: 19.5642 - accuracy: 0.9671\n",
            "Epoch 75/100\n",
            "12/12 [==============================] - 0s 3ms/step - loss: 20.0197 - accuracy: 0.9671\n",
            "Epoch 76/100\n",
            "12/12 [==============================] - 0s 4ms/step - loss: 19.4021 - accuracy: 0.9671\n",
            "Epoch 77/100\n",
            "12/12 [==============================] - 0s 3ms/step - loss: 19.2726 - accuracy: 0.9671\n",
            "Epoch 78/100\n",
            "12/12 [==============================] - 0s 3ms/step - loss: 19.1469 - accuracy: 0.9671\n",
            "Epoch 79/100\n",
            "12/12 [==============================] - 0s 3ms/step - loss: 19.4025 - accuracy: 0.9671\n",
            "Epoch 80/100\n",
            "12/12 [==============================] - 0s 3ms/step - loss: 19.3225 - accuracy: 0.9671\n",
            "Epoch 81/100\n",
            "12/12 [==============================] - 0s 3ms/step - loss: 19.2617 - accuracy: 0.9671\n",
            "Epoch 82/100\n",
            "12/12 [==============================] - 0s 3ms/step - loss: 19.4335 - accuracy: 0.9671\n",
            "Epoch 83/100\n",
            "12/12 [==============================] - 0s 3ms/step - loss: 19.1806 - accuracy: 0.9671\n",
            "Epoch 84/100\n",
            "12/12 [==============================] - 0s 3ms/step - loss: 19.2804 - accuracy: 0.9671\n",
            "Epoch 85/100\n",
            "12/12 [==============================] - 0s 3ms/step - loss: 19.1630 - accuracy: 0.9671\n",
            "Epoch 86/100\n",
            "12/12 [==============================] - 0s 6ms/step - loss: 19.1474 - accuracy: 0.9671\n",
            "Epoch 87/100\n",
            "12/12 [==============================] - 0s 3ms/step - loss: 19.1641 - accuracy: 0.9671\n",
            "Epoch 88/100\n",
            "12/12 [==============================] - 0s 3ms/step - loss: 19.0745 - accuracy: 0.9671\n",
            "Epoch 89/100\n",
            "12/12 [==============================] - 0s 3ms/step - loss: 19.0767 - accuracy: 0.9671\n",
            "Epoch 90/100\n",
            "12/12 [==============================] - 0s 3ms/step - loss: 19.1367 - accuracy: 0.9671\n",
            "Epoch 91/100\n",
            "12/12 [==============================] - 0s 3ms/step - loss: 19.1446 - accuracy: 0.9671\n",
            "Epoch 92/100\n",
            "12/12 [==============================] - 0s 3ms/step - loss: 19.2744 - accuracy: 0.9671\n",
            "Epoch 93/100\n",
            "12/12 [==============================] - 0s 3ms/step - loss: 19.2272 - accuracy: 0.9671\n",
            "Epoch 94/100\n",
            "12/12 [==============================] - 0s 3ms/step - loss: 19.3770 - accuracy: 0.9671\n",
            "Epoch 95/100\n",
            "12/12 [==============================] - 0s 3ms/step - loss: 19.0943 - accuracy: 0.9671\n",
            "Epoch 96/100\n",
            "12/12 [==============================] - 0s 3ms/step - loss: 19.1155 - accuracy: 0.9671\n",
            "Epoch 97/100\n",
            "12/12 [==============================] - 0s 4ms/step - loss: 19.0644 - accuracy: 0.9671\n",
            "Epoch 98/100\n",
            "12/12 [==============================] - 0s 3ms/step - loss: 19.0728 - accuracy: 0.9671\n",
            "Epoch 99/100\n",
            "12/12 [==============================] - 0s 3ms/step - loss: 19.1836 - accuracy: 0.9671\n",
            "Epoch 100/100\n",
            "12/12 [==============================] - 0s 3ms/step - loss: 19.1568 - accuracy: 0.9671\n"
          ]
        }
      ],
      "source": [
        "model_2 = tf.keras.Sequential([\n",
        "                               tf.keras.layers.Dense(4, input_shape=[4] ,activation = 'relu'),\n",
        "                               tf.keras.layers.Dense(100 ,activation = 'relu'),\n",
        "                               tf.keras.layers.Dense(100 ,activation = 'relu'),\n",
        "                               tf.keras.layers.Dense(100 ,activation = 'relu'),\n",
        "                               tf.keras.layers.Dense(100 ,activation = 'relu'),\n",
        "                               tf.keras.layers.Dense(4,activation = 'relu'),\n",
        "\n",
        "])\n",
        "\n",
        "model_2.compile(loss = 'MAE',\n",
        "                optimizer =tf.keras.optimizers.Adam(lr = 0.001),\n",
        "                metrics = ['accuracy'])\n",
        "history_2 = model_2.fit(tf.expand_dims(X_sol, axis=-1), y_sol, batch_size=32, epochs = 100, verbose = 1)"
      ]
    },
    {
      "cell_type": "code",
      "source": [
        "df_his_2 = pd.DataFrame(history_2.history)\n",
        "df_his_2['loss'].plot(figsize= (10,10), xlabel= 'Epochs', ylabel= 'Loss', title = 'Loss Curve')\n"
      ],
      "metadata": {
        "colab": {
          "base_uri": "https://localhost:8080/",
          "height": 639
        },
        "id": "K3qNjaa-rFRC",
        "outputId": "bccdbf61-3898-4592-b9d1-8a3ed5fa1e05"
      },
      "execution_count": 85,
      "outputs": [
        {
          "output_type": "execute_result",
          "data": {
            "text/plain": [
              "<matplotlib.axes._subplots.AxesSubplot at 0x7f96c6af06a0>"
            ]
          },
          "metadata": {},
          "execution_count": 85
        },
        {
          "output_type": "display_data",
          "data": {
            "text/plain": [
              "<Figure size 720x720 with 1 Axes>"
            ],
            "image/png": "[encoded data removed]"
          },
          "metadata": {
            "needs_background": "light"
          }
        }
      ]
    },
    {
      "cell_type": "code",
      "source": [
        "df_his_2['accuracy'] = df_his_2['accuracy']*100\n",
        "df_his_2['accuracy'].plot(figsize= (10,10), xlabel= 'Epochs', ylabel= 'Accuracy(%)', title = 'Accuracy Curve')"
      ],
      "metadata": {
        "colab": {
          "base_uri": "https://localhost:8080/",
          "height": 639
        },
        "id": "TD6Oqgw_rel3",
        "outputId": "6a998f40-4451-44a5-aaa1-1ebd1af86c87"
      },
      "execution_count": 86,
      "outputs": [
        {
          "output_type": "execute_result",
          "data": {
            "text/plain": [
              "<matplotlib.axes._subplots.AxesSubplot at 0x7f96c6fb6580>"
            ]
          },
          "metadata": {},
          "execution_count": 86
        },
        {
          "output_type": "display_data",
          "data": {
            "text/plain": [
              "<Figure size 720x720 with 1 Axes>"
            ],
            "image/png": "[encoded data removed]"
          },
          "metadata": {
            "needs_background": "light"
          }
        }
      ]
    },
    {
      "cell_type": "code",
      "execution_count": null,
      "metadata": {
        "id": "6p5f3dhUEyFF"
      },
      "outputs": [],
      "source": [
        "model_2.save('model_sol.h5')"
      ]
    },
    {
      "cell_type": "markdown",
      "source": [
        "##Testing of SOLANA Model"
      ],
      "metadata": {
        "id": "VJTAJJwdrk3q"
      }
    },
    {
      "cell_type": "code",
      "execution_count": null,
      "metadata": {
        "colab": {
          "base_uri": "https://localhost:8080/",
          "height": 206
        },
        "id": "rlakUWmJEI_Z",
        "outputId": "7eaa21d9-768f-4d3c-8a5e-e6f68ccefcee"
      },
      "outputs": [
        {
          "output_type": "execute_result",
          "data": {
            "text/plain": [
              "         Open        High         Low       Close      Volume      Open_1  \\\n",
              "0  233.601898  239.122101  207.329773  211.224396  4061060881  212.112381   \n",
              "1  212.112381  212.807541  171.553574  201.124832  5949505665  200.780609   \n",
              "2  200.780609  204.617477  182.016815  196.168259  3402591975  196.547485   \n",
              "3  196.547485  197.663025  176.888062  194.199219  3693853028  194.276596   \n",
              "4  194.276596  204.118500  188.280807  190.596909  2556849839  190.505005   \n",
              "\n",
              "       High_1       Low_1     Close_1  \n",
              "0  212.807541  171.553574  201.124832  \n",
              "1  204.617477  182.016815  196.168259  \n",
              "2  197.663025  176.888062  194.199219  \n",
              "3  204.118500  188.280807  190.596909  \n",
              "4  196.374115  184.132706  194.621704  "
            ],
            "text/html": [
              "\n",
              "  <div id=\"df-8ce7c946-7a39-44fc-9bf8-3964cc8a090c\">\n",
              "    <div class=\"colab-df-container\">\n",
              "      <div>\n",
              "<style scoped>\n",
              "    .dataframe tbody tr th:only-of-type {\n",
              "        vertical-align: middle;\n",
              "    }\n",
              "\n",
              "    .dataframe tbody tr th {\n",
              "        vertical-align: top;\n",
              "    }\n",
              "\n",
              "    .dataframe thead th {\n",
              "        text-align: right;\n",
              "    }\n",
              "</style>\n",
              "<table border=\"1\" class=\"dataframe\">\n",
              "  <thead>\n",
              "    <tr style=\"text-align: right;\">\n",
              "      <th></th>\n",
              "      <th>Open</th>\n",
              "      <th>High</th>\n",
              "      <th>Low</th>\n",
              "      <th>Close</th>\n",
              "      <th>Volume</th>\n",
              "      <th>Open_1</th>\n",
              "      <th>High_1</th>\n",
              "      <th>Low_1</th>\n",
              "      <th>Close_1</th>\n",
              "    </tr>\n",
              "  </thead>\n",
              "  <tbody>\n",
              "    <tr>\n",
              "      <th>0</th>\n",
              "      <td>233.601898</td>\n",
              "      <td>239.122101</td>\n",
              "      <td>207.329773</td>\n",
              "      <td>211.224396</td>\n",
              "      <td>4061060881</td>\n",
              "      <td>212.112381</td>\n",
              "      <td>212.807541</td>\n",
              "      <td>171.553574</td>\n",
              "      <td>201.124832</td>\n",
              "    </tr>\n",
              "    <tr>\n",
              "      <th>1</th>\n",
              "      <td>212.112381</td>\n",
              "      <td>212.807541</td>\n",
              "      <td>171.553574</td>\n",
              "      <td>201.124832</td>\n",
              "      <td>5949505665</td>\n",
              "      <td>200.780609</td>\n",
              "      <td>204.617477</td>\n",
              "      <td>182.016815</td>\n",
              "      <td>196.168259</td>\n",
              "    </tr>\n",
              "    <tr>\n",
              "      <th>2</th>\n",
              "      <td>200.780609</td>\n",
              "      <td>204.617477</td>\n",
              "      <td>182.016815</td>\n",
              "      <td>196.168259</td>\n",
              "      <td>3402591975</td>\n",
              "      <td>196.547485</td>\n",
              "      <td>197.663025</td>\n",
              "      <td>176.888062</td>\n",
              "      <td>194.199219</td>\n",
              "    </tr>\n",
              "    <tr>\n",
              "      <th>3</th>\n",
              "      <td>196.547485</td>\n",
              "      <td>197.663025</td>\n",
              "      <td>176.888062</td>\n",
              "      <td>194.199219</td>\n",
              "      <td>3693853028</td>\n",
              "      <td>194.276596</td>\n",
              "      <td>204.118500</td>\n",
              "      <td>188.280807</td>\n",
              "      <td>190.596909</td>\n",
              "    </tr>\n",
              "    <tr>\n",
              "      <th>4</th>\n",
              "      <td>194.276596</td>\n",
              "      <td>204.118500</td>\n",
              "      <td>188.280807</td>\n",
              "      <td>190.596909</td>\n",
              "      <td>2556849839</td>\n",
              "      <td>190.505005</td>\n",
              "      <td>196.374115</td>\n",
              "      <td>184.132706</td>\n",
              "      <td>194.621704</td>\n",
              "    </tr>\n",
              "  </tbody>\n",
              "</table>\n",
              "</div>\n",
              "      <button class=\"colab-df-convert\" onclick=\"convertToInteractive('df-8ce7c946-7a39-44fc-9bf8-3964cc8a090c')\"\n",
              "              title=\"Convert this dataframe to an interactive table.\"\n",
              "              style=\"display:none;\">\n",
              "        \n",
              "  <svg xmlns=\"http://www.w3.org/2000/svg\" height=\"24px\"viewBox=\"0 0 24 24\"\n",
              "       width=\"24px\">\n",
              "    <path d=\"M0 0h24v24H0V0z\" fill=\"none\"/>\n",
              "    <path d=\"M18.56 5.44l.94 2.06.94-2.06 2.06-.94-2.06-.94-.94-2.06-.94 2.06-2.06.94zm-11 1L8.5 8.5l.94-2.06 2.06-.94-2.06-.94L8.5 2.5l-.94 2.06-2.06.94zm10 10l.94 2.06.94-2.06 2.06-.94-2.06-.94-.94-2.06-.94 2.06-2.06.94z\"/><path d=\"M17.41 7.96l-1.37-1.37c-.4-.4-.92-.59-1.43-.59-.52 0-1.04.2-1.43.59L10.3 9.45l-7.72 7.72c-.78.78-.78 2.05 0 2.83L4 21.41c.39.39.9.59 1.41.59.51 0 1.02-.2 1.41-.59l7.78-7.78 2.81-2.81c.8-.78.8-2.07 0-2.86zM5.41 20L4 18.59l7.72-7.72 1.47 1.35L5.41 20z\"/>\n",
              "  </svg>\n",
              "      </button>\n",
              "      \n",
              "  <style>\n",
              "    .colab-df-container {\n",
              "      display:flex;\n",
              "      flex-wrap:wrap;\n",
              "      gap: 12px;\n",
              "    }\n",
              "\n",
              "    .colab-df-convert {\n",
              "      background-color: #E8F0FE;\n",
              "      border: none;\n",
              "      border-radius: 50%;\n",
              "      cursor: pointer;\n",
              "      display: none;\n",
              "      fill: #1967D2;\n",
              "      height: 32px;\n",
              "      padding: 0 0 0 0;\n",
              "      width: 32px;\n",
              "    }\n",
              "\n",
              "    .colab-df-convert:hover {\n",
              "      background-color: #E2EBFA;\n",
              "      box-shadow: 0px 1px 2px rgba(60, 64, 67, 0.3), 0px 1px 3px 1px rgba(60, 64, 67, 0.15);\n",
              "      fill: #174EA6;\n",
              "    }\n",
              "\n",
              "    [theme=dark] .colab-df-convert {\n",
              "      background-color: #3B4455;\n",
              "      fill: #D2E3FC;\n",
              "    }\n",
              "\n",
              "    [theme=dark] .colab-df-convert:hover {\n",
              "      background-color: #434B5C;\n",
              "      box-shadow: 0px 1px 3px 1px rgba(0, 0, 0, 0.15);\n",
              "      filter: drop-shadow(0px 1px 2px rgba(0, 0, 0, 0.3));\n",
              "      fill: #FFFFFF;\n",
              "    }\n",
              "  </style>\n",
              "\n",
              "      <script>\n",
              "        const buttonEl =\n",
              "          document.querySelector('#df-8ce7c946-7a39-44fc-9bf8-3964cc8a090c button.colab-df-convert');\n",
              "        buttonEl.style.display =\n",
              "          google.colab.kernel.accessAllowed ? 'block' : 'none';\n",
              "\n",
              "        async function convertToInteractive(key) {\n",
              "          const element = document.querySelector('#df-8ce7c946-7a39-44fc-9bf8-3964cc8a090c');\n",
              "          const dataTable =\n",
              "            await google.colab.kernel.invokeFunction('convertToInteractive',\n",
              "                                                     [key], {});\n",
              "          if (!dataTable) return;\n",
              "\n",
              "          const docLinkHtml = 'Like what you see? Visit the ' +\n",
              "            '<a target=\"_blank\" href=https://colab.research.google.com/notebooks/data_table.ipynb>data table notebook</a>'\n",
              "            + ' to learn more about interactive tables.';\n",
              "          element.innerHTML = '';\n",
              "          dataTable['output_type'] = 'display_data';\n",
              "          await google.colab.output.renderOutput(dataTable, element);\n",
              "          const docLink = document.createElement('div');\n",
              "          docLink.innerHTML = docLinkHtml;\n",
              "          element.appendChild(docLink);\n",
              "        }\n",
              "      </script>\n",
              "    </div>\n",
              "  </div>\n",
              "  "
            ]
          },
          "metadata": {},
          "execution_count": 38
        }
      ],
      "source": [
        "sol.head()"
      ]
    },
    {
      "cell_type": "code",
      "execution_count": null,
      "metadata": {
        "colab": {
          "base_uri": "https://localhost:8080/"
        },
        "id": "eQTIBSLBFqHI",
        "outputId": "d79c61ca-beca-404a-f69d-7e30836ee9f7"
      },
      "outputs": [
        {
          "output_type": "stream",
          "name": "stderr",
          "text": [
            "WARNING:tensorflow:6 out of the last 6 calls to <function Model.make_predict_function.<locals>.predict_function at 0x7f96c6c7a670> triggered tf.function retracing. Tracing is expensive and the excessive number of tracings could be due to (1) creating @tf.function repeatedly in a loop, (2) passing tensors with different shapes, (3) passing Python objects instead of tensors. For (1), please define your @tf.function outside of the loop. For (2), @tf.function has reduce_retracing=True option that can avoid unnecessary retracing. For (3), please refer to https://www.tensorflow.org/guide/function#controlling_retracing and https://www.tensorflow.org/api_docs/python/tf/function for  more details.\n"
          ]
        },
        {
          "output_type": "stream",
          "name": "stdout",
          "text": [
            "1/1 [==============================] - 0s 154ms/step\n",
            "Predicted Open: 209.3531951904297, Predicted High: 214.60354614257812\n"
          ]
        }
      ],
      "source": [
        "path_model_2 = f'/content/model_sol.h5'\n",
        "fun_predict(list_inputs = [sol['Open'][0], sol['High'][0], sol['Low'][0], sol['Close'][0]] , path= path_model_2)"
      ]
    },
    {
      "cell_type": "markdown",
      "source": [
        "#Predictive Analysis of MATIC"
      ],
      "metadata": {
        "id": "mfwCy3J1mqyk"
      }
    },
    {
      "cell_type": "code",
      "execution_count": 41,
      "metadata": {
        "id": "NUJM0aE9GRzA"
      },
      "outputs": [],
      "source": [
        "x_matic, y_matic = data_prep(matic)"
      ]
    },
    {
      "cell_type": "code",
      "execution_count": 42,
      "metadata": {
        "id": "z35mLOZbFZvr",
        "colab": {
          "base_uri": "https://localhost:8080/"
        },
        "outputId": "54393b98-a37b-4ed3-ad73-8418a7e10c07"
      },
      "outputs": [
        {
          "output_type": "stream",
          "name": "stdout",
          "text": [
            "Epoch 1/100\n",
            "12/12 [==============================] - 0s 3ms/step - loss: 0.9467 - accuracy: 0.9781\n",
            "Epoch 2/100\n",
            "12/12 [==============================] - 0s 3ms/step - loss: 0.4760 - accuracy: 0.9781\n",
            "Epoch 3/100\n",
            "12/12 [==============================] - 0s 3ms/step - loss: 0.3797 - accuracy: 0.1589\n",
            "Epoch 4/100\n",
            "12/12 [==============================] - 0s 3ms/step - loss: 0.3582 - accuracy: 0.9781\n",
            "Epoch 5/100\n",
            "12/12 [==============================] - 0s 3ms/step - loss: 0.3462 - accuracy: 0.9781\n",
            "Epoch 6/100\n",
            "12/12 [==============================] - 0s 3ms/step - loss: 0.3427 - accuracy: 0.9781\n",
            "Epoch 7/100\n",
            "12/12 [==============================] - 0s 3ms/step - loss: 0.3386 - accuracy: 0.9781\n",
            "Epoch 8/100\n",
            "12/12 [==============================] - 0s 3ms/step - loss: 0.3363 - accuracy: 0.9781\n",
            "Epoch 9/100\n",
            "12/12 [==============================] - 0s 3ms/step - loss: 0.3366 - accuracy: 0.9781\n",
            "Epoch 10/100\n",
            "12/12 [==============================] - 0s 3ms/step - loss: 0.3350 - accuracy: 0.9781\n",
            "Epoch 11/100\n",
            "12/12 [==============================] - 0s 3ms/step - loss: 0.3350 - accuracy: 0.9781\n",
            "Epoch 12/100\n",
            "12/12 [==============================] - 0s 3ms/step - loss: 0.3360 - accuracy: 0.9781\n",
            "Epoch 13/100\n",
            "12/12 [==============================] - 0s 3ms/step - loss: 0.3351 - accuracy: 0.9781\n",
            "Epoch 14/100\n",
            "12/12 [==============================] - 0s 3ms/step - loss: 0.3342 - accuracy: 0.9781\n",
            "Epoch 15/100\n",
            "12/12 [==============================] - 0s 4ms/step - loss: 0.3347 - accuracy: 0.9781\n",
            "Epoch 16/100\n",
            "12/12 [==============================] - 0s 3ms/step - loss: 0.3351 - accuracy: 0.9781\n",
            "Epoch 17/100\n",
            "12/12 [==============================] - 0s 3ms/step - loss: 0.3339 - accuracy: 0.9781\n",
            "Epoch 18/100\n",
            "12/12 [==============================] - 0s 3ms/step - loss: 0.3332 - accuracy: 0.9781\n",
            "Epoch 19/100\n",
            "12/12 [==============================] - 0s 3ms/step - loss: 0.3346 - accuracy: 0.9781\n",
            "Epoch 20/100\n",
            "12/12 [==============================] - 0s 4ms/step - loss: 0.3344 - accuracy: 0.9781\n",
            "Epoch 21/100\n",
            "12/12 [==============================] - 0s 3ms/step - loss: 0.3347 - accuracy: 0.9781\n",
            "Epoch 22/100\n",
            "12/12 [==============================] - 0s 3ms/step - loss: 0.3357 - accuracy: 0.9781\n",
            "Epoch 23/100\n",
            "12/12 [==============================] - 0s 3ms/step - loss: 0.3345 - accuracy: 0.9781\n",
            "Epoch 24/100\n",
            "12/12 [==============================] - 0s 3ms/step - loss: 0.3345 - accuracy: 0.9781\n",
            "Epoch 25/100\n",
            "12/12 [==============================] - 0s 3ms/step - loss: 0.3342 - accuracy: 0.9781\n",
            "Epoch 26/100\n",
            "12/12 [==============================] - 0s 3ms/step - loss: 0.3350 - accuracy: 0.9781\n",
            "Epoch 27/100\n",
            "12/12 [==============================] - 0s 3ms/step - loss: 0.3324 - accuracy: 0.9781\n",
            "Epoch 28/100\n",
            "12/12 [==============================] - 0s 3ms/step - loss: 0.3332 - accuracy: 0.7260\n",
            "Epoch 29/100\n",
            "12/12 [==============================] - 0s 3ms/step - loss: 0.3348 - accuracy: 0.9781\n",
            "Epoch 30/100\n",
            "12/12 [==============================] - 0s 3ms/step - loss: 0.3345 - accuracy: 0.9781\n",
            "Epoch 31/100\n",
            "12/12 [==============================] - 0s 3ms/step - loss: 0.3336 - accuracy: 0.9178\n",
            "Epoch 32/100\n",
            "12/12 [==============================] - 0s 3ms/step - loss: 0.3327 - accuracy: 0.9370\n",
            "Epoch 33/100\n",
            "12/12 [==============================] - 0s 3ms/step - loss: 0.3326 - accuracy: 0.9781\n",
            "Epoch 34/100\n",
            "12/12 [==============================] - 0s 3ms/step - loss: 0.3325 - accuracy: 0.9781\n",
            "Epoch 35/100\n",
            "12/12 [==============================] - 0s 3ms/step - loss: 0.3332 - accuracy: 0.9781\n",
            "Epoch 36/100\n",
            "12/12 [==============================] - 0s 3ms/step - loss: 0.3353 - accuracy: 0.9781\n",
            "Epoch 37/100\n",
            "12/12 [==============================] - 0s 3ms/step - loss: 0.3344 - accuracy: 0.9781\n",
            "Epoch 38/100\n",
            "12/12 [==============================] - 0s 3ms/step - loss: 0.3322 - accuracy: 0.9644\n",
            "Epoch 39/100\n",
            "12/12 [==============================] - 0s 3ms/step - loss: 0.3314 - accuracy: 0.9781\n",
            "Epoch 40/100\n",
            "12/12 [==============================] - 0s 3ms/step - loss: 0.3317 - accuracy: 0.9479\n",
            "Epoch 41/100\n",
            "12/12 [==============================] - 0s 3ms/step - loss: 0.3343 - accuracy: 0.9781\n",
            "Epoch 42/100\n",
            "12/12 [==============================] - 0s 3ms/step - loss: 0.3318 - accuracy: 0.9781\n",
            "Epoch 43/100\n",
            "12/12 [==============================] - 0s 3ms/step - loss: 0.3320 - accuracy: 0.9781\n",
            "Epoch 44/100\n",
            "12/12 [==============================] - 0s 3ms/step - loss: 0.3326 - accuracy: 0.9781\n",
            "Epoch 45/100\n",
            "12/12 [==============================] - 0s 3ms/step - loss: 0.3307 - accuracy: 0.9781\n",
            "Epoch 46/100\n",
            "12/12 [==============================] - 0s 3ms/step - loss: 0.3308 - accuracy: 0.9781\n",
            "Epoch 47/100\n",
            "12/12 [==============================] - 0s 4ms/step - loss: 0.3298 - accuracy: 0.9781\n",
            "Epoch 48/100\n",
            "12/12 [==============================] - 0s 3ms/step - loss: 0.3318 - accuracy: 0.9781\n",
            "Epoch 49/100\n",
            "12/12 [==============================] - 0s 3ms/step - loss: 0.3322 - accuracy: 0.9781\n",
            "Epoch 50/100\n",
            "12/12 [==============================] - 0s 3ms/step - loss: 0.3303 - accuracy: 0.9781\n",
            "Epoch 51/100\n",
            "12/12 [==============================] - 0s 3ms/step - loss: 0.3301 - accuracy: 0.9699\n",
            "Epoch 52/100\n",
            "12/12 [==============================] - 0s 3ms/step - loss: 0.3298 - accuracy: 0.9781\n",
            "Epoch 53/100\n",
            "12/12 [==============================] - 0s 3ms/step - loss: 0.3309 - accuracy: 0.9781\n",
            "Epoch 54/100\n",
            "12/12 [==============================] - 0s 3ms/step - loss: 0.3316 - accuracy: 0.9781\n",
            "Epoch 55/100\n",
            "12/12 [==============================] - 0s 3ms/step - loss: 0.3287 - accuracy: 0.9781\n",
            "Epoch 56/100\n",
            "12/12 [==============================] - 0s 3ms/step - loss: 0.3288 - accuracy: 0.9616\n",
            "Epoch 57/100\n",
            "12/12 [==============================] - 0s 3ms/step - loss: 0.3328 - accuracy: 0.9753\n",
            "Epoch 58/100\n",
            "12/12 [==============================] - 0s 3ms/step - loss: 0.3339 - accuracy: 0.9781\n",
            "Epoch 59/100\n",
            "12/12 [==============================] - 0s 3ms/step - loss: 0.3325 - accuracy: 0.9781\n",
            "Epoch 60/100\n",
            "12/12 [==============================] - 0s 3ms/step - loss: 0.3306 - accuracy: 0.9781\n",
            "Epoch 61/100\n",
            "12/12 [==============================] - 0s 3ms/step - loss: 0.3291 - accuracy: 0.9781\n",
            "Epoch 62/100\n",
            "12/12 [==============================] - 0s 4ms/step - loss: 0.3286 - accuracy: 0.9781\n",
            "Epoch 63/100\n",
            "12/12 [==============================] - 0s 3ms/step - loss: 0.3305 - accuracy: 0.9781\n",
            "Epoch 64/100\n",
            "12/12 [==============================] - 0s 3ms/step - loss: 0.3287 - accuracy: 0.9781\n",
            "Epoch 65/100\n",
            "12/12 [==============================] - 0s 3ms/step - loss: 0.3274 - accuracy: 0.9781\n",
            "Epoch 66/100\n",
            "12/12 [==============================] - 0s 3ms/step - loss: 0.3290 - accuracy: 0.9781\n",
            "Epoch 67/100\n",
            "12/12 [==============================] - 0s 3ms/step - loss: 0.3270 - accuracy: 0.9781\n",
            "Epoch 68/100\n",
            "12/12 [==============================] - 0s 3ms/step - loss: 0.3275 - accuracy: 0.9781\n",
            "Epoch 69/100\n",
            "12/12 [==============================] - 0s 3ms/step - loss: 0.3271 - accuracy: 0.9781\n",
            "Epoch 70/100\n",
            "12/12 [==============================] - 0s 3ms/step - loss: 0.3337 - accuracy: 0.9781\n",
            "Epoch 71/100\n",
            "12/12 [==============================] - 0s 3ms/step - loss: 0.3301 - accuracy: 0.9781\n",
            "Epoch 72/100\n",
            "12/12 [==============================] - 0s 4ms/step - loss: 0.3276 - accuracy: 0.9781\n",
            "Epoch 73/100\n",
            "12/12 [==============================] - 0s 3ms/step - loss: 0.3273 - accuracy: 0.9781\n",
            "Epoch 74/100\n",
            "12/12 [==============================] - 0s 3ms/step - loss: 0.3271 - accuracy: 0.9781\n",
            "Epoch 75/100\n",
            "12/12 [==============================] - 0s 3ms/step - loss: 0.3272 - accuracy: 0.9781\n",
            "Epoch 76/100\n",
            "12/12 [==============================] - 0s 3ms/step - loss: 0.3313 - accuracy: 0.9781\n",
            "Epoch 77/100\n",
            "12/12 [==============================] - 0s 3ms/step - loss: 0.3282 - accuracy: 0.9781\n",
            "Epoch 78/100\n",
            "12/12 [==============================] - 0s 3ms/step - loss: 0.3285 - accuracy: 0.9781\n",
            "Epoch 79/100\n",
            "12/12 [==============================] - 0s 3ms/step - loss: 0.3268 - accuracy: 0.9781\n",
            "Epoch 80/100\n",
            "12/12 [==============================] - 0s 3ms/step - loss: 0.3291 - accuracy: 0.9781\n",
            "Epoch 81/100\n",
            "12/12 [==============================] - 0s 3ms/step - loss: 0.3296 - accuracy: 0.9781\n",
            "Epoch 82/100\n",
            "12/12 [==============================] - 0s 3ms/step - loss: 0.3291 - accuracy: 0.9781\n",
            "Epoch 83/100\n",
            "12/12 [==============================] - 0s 3ms/step - loss: 0.3258 - accuracy: 0.9781\n",
            "Epoch 84/100\n",
            "12/12 [==============================] - 0s 4ms/step - loss: 0.3284 - accuracy: 0.9781\n",
            "Epoch 85/100\n",
            "12/12 [==============================] - 0s 4ms/step - loss: 0.3292 - accuracy: 0.9781\n",
            "Epoch 86/100\n",
            "12/12 [==============================] - 0s 3ms/step - loss: 0.3323 - accuracy: 0.9781\n",
            "Epoch 87/100\n",
            "12/12 [==============================] - 0s 3ms/step - loss: 0.3323 - accuracy: 0.9781\n",
            "Epoch 88/100\n",
            "12/12 [==============================] - 0s 3ms/step - loss: 0.3264 - accuracy: 0.9781\n",
            "Epoch 89/100\n",
            "12/12 [==============================] - 0s 3ms/step - loss: 0.3257 - accuracy: 0.9781\n",
            "Epoch 90/100\n",
            "12/12 [==============================] - 0s 3ms/step - loss: 0.3256 - accuracy: 0.9781\n",
            "Epoch 91/100\n",
            "12/12 [==============================] - 0s 3ms/step - loss: 0.3263 - accuracy: 0.9781\n",
            "Epoch 92/100\n",
            "12/12 [==============================] - 0s 3ms/step - loss: 0.3259 - accuracy: 0.9781\n",
            "Epoch 93/100\n",
            "12/12 [==============================] - 0s 3ms/step - loss: 0.3272 - accuracy: 0.9781\n",
            "Epoch 94/100\n",
            "12/12 [==============================] - 0s 3ms/step - loss: 0.3280 - accuracy: 0.9781\n",
            "Epoch 95/100\n",
            "12/12 [==============================] - 0s 3ms/step - loss: 0.3264 - accuracy: 0.9781\n",
            "Epoch 96/100\n",
            "12/12 [==============================] - 0s 3ms/step - loss: 0.3262 - accuracy: 0.9781\n",
            "Epoch 97/100\n",
            "12/12 [==============================] - 0s 3ms/step - loss: 0.3277 - accuracy: 0.9781\n",
            "Epoch 98/100\n",
            "12/12 [==============================] - 0s 3ms/step - loss: 0.3287 - accuracy: 0.9781\n",
            "Epoch 99/100\n",
            "12/12 [==============================] - 0s 3ms/step - loss: 0.3273 - accuracy: 0.9781\n",
            "Epoch 100/100\n",
            "12/12 [==============================] - 0s 3ms/step - loss: 0.3270 - accuracy: 0.9781\n"
          ]
        }
      ],
      "source": [
        "model_3 = tf.keras.Sequential([\n",
        "                               tf.keras.layers.Dense(4, input_shape=[4] ,activation = 'relu'),\n",
        "                               tf.keras.layers.Dense(100 ,activation = 'relu'),\n",
        "                               tf.keras.layers.Dense(100 ,activation = 'relu'),\n",
        "                               tf.keras.layers.Dense(100 ,activation = 'relu'),\n",
        "                               tf.keras.layers.Dense(4,activation = 'relu'),\n",
        "\n",
        "])\n",
        "\n",
        "model_3.compile(loss = 'MAE',\n",
        "                optimizer =tf.keras.optimizers.Adam(lr = 0.001),\n",
        "                metrics = ['accuracy'])\n",
        "history_3 = model_3.fit(tf.expand_dims(x_matic, axis=-1), y_matic, batch_size=32, epochs = 100, verbose = 1)"
      ]
    },
    {
      "cell_type": "code",
      "source": [
        "df_his_3 = pd.DataFrame(history_3.history)\n",
        "df_his_3['loss'].plot(figsize= (10,10), xlabel= 'Epochs', ylabel= 'Loss', title = 'Loss Curve')\n"
      ],
      "metadata": {
        "colab": {
          "base_uri": "https://localhost:8080/",
          "height": 639
        },
        "id": "gRo_jVigrxd5",
        "outputId": "bf079535-0ec1-4d42-c342-cb442e91ebe7"
      },
      "execution_count": 88,
      "outputs": [
        {
          "output_type": "execute_result",
          "data": {
            "text/plain": [
              "<matplotlib.axes._subplots.AxesSubplot at 0x7f96c7e56430>"
            ]
          },
          "metadata": {},
          "execution_count": 88
        },
        {
          "output_type": "display_data",
          "data": {
            "text/plain": [
              "<Figure size 720x720 with 1 Axes>"
            ],
            "image/png": "[encoded data removed]"
          },
          "metadata": {
            "needs_background": "light"
          }
        }
      ]
    },
    {
      "cell_type": "code",
      "source": [
        "df_his_3['accuracy'] = df_his_3['accuracy']*100\n",
        "df_his_3['accuracy'].plot(figsize= (10,10), xlabel= 'Epochs', ylabel= 'Accuracy(%)', title = 'Accuracy Curve')"
      ],
      "metadata": {
        "colab": {
          "base_uri": "https://localhost:8080/",
          "height": 639
        },
        "id": "jDLqDkjfr8n9",
        "outputId": "e4ea0c5d-1730-4cd5-b3a9-fefa86351155"
      },
      "execution_count": 89,
      "outputs": [
        {
          "output_type": "execute_result",
          "data": {
            "text/plain": [
              "<matplotlib.axes._subplots.AxesSubplot at 0x7f96c6b551f0>"
            ]
          },
          "metadata": {},
          "execution_count": 89
        },
        {
          "output_type": "display_data",
          "data": {
            "text/plain": [
              "<Figure size 720x720 with 1 Axes>"
            ],
            "image/png": "[encoded data removed]"
          },
          "metadata": {
            "needs_background": "light"
          }
        }
      ]
    },
    {
      "cell_type": "code",
      "execution_count": 43,
      "metadata": {
        "id": "DjAvTU2nGe5f"
      },
      "outputs": [],
      "source": [
        "model_3.save('model_matic.h5')"
      ]
    },
    {
      "cell_type": "markdown",
      "source": [
        "##Testing of MATIC Model\n"
      ],
      "metadata": {
        "id": "MFrfOA3lsIxS"
      }
    },
    {
      "cell_type": "code",
      "execution_count": 48,
      "metadata": {
        "id": "zFFaHritFnwn",
        "colab": {
          "base_uri": "https://localhost:8080/",
          "height": 206
        },
        "outputId": "ec5a1f6b-d5cd-4a34-e58f-9af4f8c8169f"
      },
      "outputs": [
        {
          "output_type": "execute_result",
          "data": {
            "text/plain": [
              "         Open      High       Low     Close     Volume    Open_1    High_1  \\\n",
              "360  0.844939  0.847751  0.809179  0.822698  293294577  0.822415  0.845024   \n",
              "361  0.822415  0.845024  0.817048  0.838892  223650810  0.839003  0.936996   \n",
              "362  0.839003  0.936996  0.839003  0.936996  495703018  0.936412  0.940099   \n",
              "363  0.936412  0.940099  0.908273  0.908376  468978303  0.908393  0.946198   \n",
              "364  0.908393  0.946198  0.902370  0.946198  361496926  0.946761  0.947608   \n",
              "\n",
              "        Low_1   Close_1  \n",
              "360  0.817048  0.838892  \n",
              "361  0.839003  0.936996  \n",
              "362  0.908273  0.908376  \n",
              "363  0.902370  0.946198  \n",
              "364  0.919134  0.919778  "
            ],
            "text/html": [
              "\n",
              "  <div id=\"df-d2f6fb33-dbaa-424a-9b23-16cea560a0cf\">\n",
              "    <div class=\"colab-df-container\">\n",
              "      <div>\n",
              "<style scoped>\n",
              "    .dataframe tbody tr th:only-of-type {\n",
              "        vertical-align: middle;\n",
              "    }\n",
              "\n",
              "    .dataframe tbody tr th {\n",
              "        vertical-align: top;\n",
              "    }\n",
              "\n",
              "    .dataframe thead th {\n",
              "        text-align: right;\n",
              "    }\n",
              "</style>\n",
              "<table border=\"1\" class=\"dataframe\">\n",
              "  <thead>\n",
              "    <tr style=\"text-align: right;\">\n",
              "      <th></th>\n",
              "      <th>Open</th>\n",
              "      <th>High</th>\n",
              "      <th>Low</th>\n",
              "      <th>Close</th>\n",
              "      <th>Volume</th>\n",
              "      <th>Open_1</th>\n",
              "      <th>High_1</th>\n",
              "      <th>Low_1</th>\n",
              "      <th>Close_1</th>\n",
              "    </tr>\n",
              "  </thead>\n",
              "  <tbody>\n",
              "    <tr>\n",
              "      <th>360</th>\n",
              "      <td>0.844939</td>\n",
              "      <td>0.847751</td>\n",
              "      <td>0.809179</td>\n",
              "      <td>0.822698</td>\n",
              "      <td>293294577</td>\n",
              "      <td>0.822415</td>\n",
              "      <td>0.845024</td>\n",
              "      <td>0.817048</td>\n",
              "      <td>0.838892</td>\n",
              "    </tr>\n",
              "    <tr>\n",
              "      <th>361</th>\n",
              "      <td>0.822415</td>\n",
              "      <td>0.845024</td>\n",
              "      <td>0.817048</td>\n",
              "      <td>0.838892</td>\n",
              "      <td>223650810</td>\n",
              "      <td>0.839003</td>\n",
              "      <td>0.936996</td>\n",
              "      <td>0.839003</td>\n",
              "      <td>0.936996</td>\n",
              "    </tr>\n",
              "    <tr>\n",
              "      <th>362</th>\n",
              "      <td>0.839003</td>\n",
              "      <td>0.936996</td>\n",
              "      <td>0.839003</td>\n",
              "      <td>0.936996</td>\n",
              "      <td>495703018</td>\n",
              "      <td>0.936412</td>\n",
              "      <td>0.940099</td>\n",
              "      <td>0.908273</td>\n",
              "      <td>0.908376</td>\n",
              "    </tr>\n",
              "    <tr>\n",
              "      <th>363</th>\n",
              "      <td>0.936412</td>\n",
              "      <td>0.940099</td>\n",
              "      <td>0.908273</td>\n",
              "      <td>0.908376</td>\n",
              "      <td>468978303</td>\n",
              "      <td>0.908393</td>\n",
              "      <td>0.946198</td>\n",
              "      <td>0.902370</td>\n",
              "      <td>0.946198</td>\n",
              "    </tr>\n",
              "    <tr>\n",
              "      <th>364</th>\n",
              "      <td>0.908393</td>\n",
              "      <td>0.946198</td>\n",
              "      <td>0.902370</td>\n",
              "      <td>0.946198</td>\n",
              "      <td>361496926</td>\n",
              "      <td>0.946761</td>\n",
              "      <td>0.947608</td>\n",
              "      <td>0.919134</td>\n",
              "      <td>0.919778</td>\n",
              "    </tr>\n",
              "  </tbody>\n",
              "</table>\n",
              "</div>\n",
              "      <button class=\"colab-df-convert\" onclick=\"convertToInteractive('df-d2f6fb33-dbaa-424a-9b23-16cea560a0cf')\"\n",
              "              title=\"Convert this dataframe to an interactive table.\"\n",
              "              style=\"display:none;\">\n",
              "        \n",
              "  <svg xmlns=\"http://www.w3.org/2000/svg\" height=\"24px\"viewBox=\"0 0 24 24\"\n",
              "       width=\"24px\">\n",
              "    <path d=\"M0 0h24v24H0V0z\" fill=\"none\"/>\n",
              "    <path d=\"M18.56 5.44l.94 2.06.94-2.06 2.06-.94-2.06-.94-.94-2.06-.94 2.06-2.06.94zm-11 1L8.5 8.5l.94-2.06 2.06-.94-2.06-.94L8.5 2.5l-.94 2.06-2.06.94zm10 10l.94 2.06.94-2.06 2.06-.94-2.06-.94-.94-2.06-.94 2.06-2.06.94z\"/><path d=\"M17.41 7.96l-1.37-1.37c-.4-.4-.92-.59-1.43-.59-.52 0-1.04.2-1.43.59L10.3 9.45l-7.72 7.72c-.78.78-.78 2.05 0 2.83L4 21.41c.39.39.9.59 1.41.59.51 0 1.02-.2 1.41-.59l7.78-7.78 2.81-2.81c.8-.78.8-2.07 0-2.86zM5.41 20L4 18.59l7.72-7.72 1.47 1.35L5.41 20z\"/>\n",
              "  </svg>\n",
              "      </button>\n",
              "      \n",
              "  <style>\n",
              "    .colab-df-container {\n",
              "      display:flex;\n",
              "      flex-wrap:wrap;\n",
              "      gap: 12px;\n",
              "    }\n",
              "\n",
              "    .colab-df-convert {\n",
              "      background-color: #E8F0FE;\n",
              "      border: none;\n",
              "      border-radius: 50%;\n",
              "      cursor: pointer;\n",
              "      display: none;\n",
              "      fill: #1967D2;\n",
              "      height: 32px;\n",
              "      padding: 0 0 0 0;\n",
              "      width: 32px;\n",
              "    }\n",
              "\n",
              "    .colab-df-convert:hover {\n",
              "      background-color: #E2EBFA;\n",
              "      box-shadow: 0px 1px 2px rgba(60, 64, 67, 0.3), 0px 1px 3px 1px rgba(60, 64, 67, 0.15);\n",
              "      fill: #174EA6;\n",
              "    }\n",
              "\n",
              "    [theme=dark] .colab-df-convert {\n",
              "      background-color: #3B4455;\n",
              "      fill: #D2E3FC;\n",
              "    }\n",
              "\n",
              "    [theme=dark] .colab-df-convert:hover {\n",
              "      background-color: #434B5C;\n",
              "      box-shadow: 0px 1px 3px 1px rgba(0, 0, 0, 0.15);\n",
              "      filter: drop-shadow(0px 1px 2px rgba(0, 0, 0, 0.3));\n",
              "      fill: #FFFFFF;\n",
              "    }\n",
              "  </style>\n",
              "\n",
              "      <script>\n",
              "        const buttonEl =\n",
              "          document.querySelector('#df-d2f6fb33-dbaa-424a-9b23-16cea560a0cf button.colab-df-convert');\n",
              "        buttonEl.style.display =\n",
              "          google.colab.kernel.accessAllowed ? 'block' : 'none';\n",
              "\n",
              "        async function convertToInteractive(key) {\n",
              "          const element = document.querySelector('#df-d2f6fb33-dbaa-424a-9b23-16cea560a0cf');\n",
              "          const dataTable =\n",
              "            await google.colab.kernel.invokeFunction('convertToInteractive',\n",
              "                                                     [key], {});\n",
              "          if (!dataTable) return;\n",
              "\n",
              "          const docLinkHtml = 'Like what you see? Visit the ' +\n",
              "            '<a target=\"_blank\" href=https://colab.research.google.com/notebooks/data_table.ipynb>data table notebook</a>'\n",
              "            + ' to learn more about interactive tables.';\n",
              "          element.innerHTML = '';\n",
              "          dataTable['output_type'] = 'display_data';\n",
              "          await google.colab.output.renderOutput(dataTable, element);\n",
              "          const docLink = document.createElement('div');\n",
              "          docLink.innerHTML = docLinkHtml;\n",
              "          element.appendChild(docLink);\n",
              "        }\n",
              "      </script>\n",
              "    </div>\n",
              "  </div>\n",
              "  "
            ]
          },
          "metadata": {},
          "execution_count": 48
        }
      ],
      "source": [
        "matic.tail()"
      ]
    },
    {
      "cell_type": "code",
      "execution_count": 50,
      "metadata": {
        "id": "pY4smGllGtJb",
        "colab": {
          "base_uri": "https://localhost:8080/"
        },
        "outputId": "652f327b-aba5-43f4-a7d3-2d088206af0c"
      },
      "outputs": [
        {
          "output_type": "stream",
          "name": "stdout",
          "text": [
            "1/1 [==============================] - 0s 57ms/step\n",
            "Predicted Open: 0.9285635352134705, Predicted High: 0.9496170282363892\n"
          ]
        }
      ],
      "source": [
        "path_model_3 = f'/content/model_matic.h5'\n",
        "fun_predict(list_inputs = [matic['Open'][364], matic['High'][364], matic['Low'][364], matic['Close'][364]] , path= path_model_3)"
      ]
    },
    {
      "cell_type": "markdown",
      "source": [
        "#Predictive Analysis of ETHER"
      ],
      "metadata": {
        "id": "CgMukzJOm98T"
      }
    },
    {
      "cell_type": "code",
      "source": [
        "x_eth, y_eth = data_prep(eth)"
      ],
      "metadata": {
        "id": "-_wZi6T8nk1l"
      },
      "execution_count": 51,
      "outputs": []
    },
    {
      "cell_type": "code",
      "execution_count": 79,
      "metadata": {
        "id": "pOQ6gNN9H3v0",
        "colab": {
          "base_uri": "https://localhost:8080/"
        },
        "outputId": "cdd9e9dc-80a4-40b2-c878-336be0c6002c"
      },
      "outputs": [
        {
          "output_type": "stream",
          "name": "stdout",
          "text": [
            "Epoch 1/100\n"
          ]
        },
        {
          "output_type": "stream",
          "name": "stderr",
          "text": [
            "/usr/local/lib/python3.8/dist-packages/keras/optimizers/optimizer_v2/adam.py:110: UserWarning: The `lr` argument is deprecated, use `learning_rate` instead.\n",
            "  super(Adam, self).__init__(name, **kwargs)\n"
          ]
        },
        {
          "output_type": "stream",
          "name": "stdout",
          "text": [
            "12/12 [==============================] - 1s 3ms/step - loss: 1990.3416 - accuracy: 0.0356\n",
            "Epoch 2/100\n",
            "12/12 [==============================] - 0s 3ms/step - loss: 1161.4388 - accuracy: 0.0356\n",
            "Epoch 3/100\n",
            "12/12 [==============================] - 0s 3ms/step - loss: 299.3504 - accuracy: 0.3205\n",
            "Epoch 4/100\n",
            "12/12 [==============================] - 0s 4ms/step - loss: 133.2686 - accuracy: 0.5233\n",
            "Epoch 5/100\n",
            "12/12 [==============================] - 0s 3ms/step - loss: 79.3897 - accuracy: 0.5342\n",
            "Epoch 6/100\n",
            "12/12 [==============================] - 0s 3ms/step - loss: 76.9955 - accuracy: 0.7781\n",
            "Epoch 7/100\n",
            "12/12 [==============================] - 0s 3ms/step - loss: 68.5958 - accuracy: 0.7178\n",
            "Epoch 8/100\n",
            "12/12 [==============================] - 0s 3ms/step - loss: 64.5554 - accuracy: 0.9644\n",
            "Epoch 9/100\n",
            "12/12 [==============================] - 0s 3ms/step - loss: 67.2693 - accuracy: 0.9644\n",
            "Epoch 10/100\n",
            "12/12 [==============================] - 0s 3ms/step - loss: 77.2484 - accuracy: 0.9644\n",
            "Epoch 11/100\n",
            "12/12 [==============================] - 0s 3ms/step - loss: 67.0559 - accuracy: 0.9644\n",
            "Epoch 12/100\n",
            "12/12 [==============================] - 0s 3ms/step - loss: 78.6360 - accuracy: 0.9644\n",
            "Epoch 13/100\n",
            "12/12 [==============================] - 0s 3ms/step - loss: 66.6690 - accuracy: 0.9644\n",
            "Epoch 14/100\n",
            "12/12 [==============================] - 0s 3ms/step - loss: 65.6746 - accuracy: 0.9644\n",
            "Epoch 15/100\n",
            "12/12 [==============================] - 0s 3ms/step - loss: 63.0183 - accuracy: 0.9644\n",
            "Epoch 16/100\n",
            "12/12 [==============================] - 0s 3ms/step - loss: 68.8765 - accuracy: 0.9644\n",
            "Epoch 17/100\n",
            "12/12 [==============================] - 0s 3ms/step - loss: 65.9144 - accuracy: 0.9644\n",
            "Epoch 18/100\n",
            "12/12 [==============================] - 0s 3ms/step - loss: 72.7298 - accuracy: 0.8822\n",
            "Epoch 19/100\n",
            "12/12 [==============================] - 0s 3ms/step - loss: 64.6647 - accuracy: 0.9644\n",
            "Epoch 20/100\n",
            "12/12 [==============================] - 0s 3ms/step - loss: 73.1210 - accuracy: 0.9644\n",
            "Epoch 21/100\n",
            "12/12 [==============================] - 0s 3ms/step - loss: 68.1524 - accuracy: 0.9644\n",
            "Epoch 22/100\n",
            "12/12 [==============================] - 0s 3ms/step - loss: 63.8742 - accuracy: 0.9644\n",
            "Epoch 23/100\n",
            "12/12 [==============================] - 0s 3ms/step - loss: 64.0939 - accuracy: 0.9644\n",
            "Epoch 24/100\n",
            "12/12 [==============================] - 0s 3ms/step - loss: 68.7660 - accuracy: 0.9644\n",
            "Epoch 25/100\n",
            "12/12 [==============================] - 0s 3ms/step - loss: 66.0408 - accuracy: 0.9644\n",
            "Epoch 26/100\n",
            "12/12 [==============================] - 0s 4ms/step - loss: 64.3463 - accuracy: 0.8521\n",
            "Epoch 27/100\n",
            "12/12 [==============================] - 0s 3ms/step - loss: 66.7116 - accuracy: 0.9644\n",
            "Epoch 28/100\n",
            "12/12 [==============================] - 0s 3ms/step - loss: 64.6983 - accuracy: 0.8000\n",
            "Epoch 29/100\n",
            "12/12 [==============================] - 0s 3ms/step - loss: 64.5699 - accuracy: 0.8822\n",
            "Epoch 30/100\n",
            "12/12 [==============================] - 0s 3ms/step - loss: 70.6192 - accuracy: 0.9644\n",
            "Epoch 31/100\n",
            "12/12 [==============================] - 0s 3ms/step - loss: 62.5995 - accuracy: 0.9644\n",
            "Epoch 32/100\n",
            "12/12 [==============================] - 0s 3ms/step - loss: 64.8494 - accuracy: 0.7945\n",
            "Epoch 33/100\n",
            "12/12 [==============================] - 0s 3ms/step - loss: 64.8627 - accuracy: 0.7233\n",
            "Epoch 34/100\n",
            "12/12 [==============================] - 0s 3ms/step - loss: 63.5884 - accuracy: 0.9644\n",
            "Epoch 35/100\n",
            "12/12 [==============================] - 0s 3ms/step - loss: 61.4939 - accuracy: 0.9644\n",
            "Epoch 36/100\n",
            "12/12 [==============================] - 0s 3ms/step - loss: 74.7251 - accuracy: 0.9644\n",
            "Epoch 37/100\n",
            "12/12 [==============================] - 0s 3ms/step - loss: 70.2893 - accuracy: 0.9644\n",
            "Epoch 38/100\n",
            "12/12 [==============================] - 0s 3ms/step - loss: 61.0657 - accuracy: 0.9644\n",
            "Epoch 39/100\n",
            "12/12 [==============================] - 0s 3ms/step - loss: 64.4428 - accuracy: 0.7123\n",
            "Epoch 40/100\n",
            "12/12 [==============================] - 0s 4ms/step - loss: 62.3028 - accuracy: 0.9644\n",
            "Epoch 41/100\n",
            "12/12 [==============================] - 0s 3ms/step - loss: 59.9469 - accuracy: 0.9644\n",
            "Epoch 42/100\n",
            "12/12 [==============================] - 0s 3ms/step - loss: 64.4945 - accuracy: 0.7288\n",
            "Epoch 43/100\n",
            "12/12 [==============================] - 0s 3ms/step - loss: 65.1128 - accuracy: 0.8247\n",
            "Epoch 44/100\n",
            "12/12 [==============================] - 0s 3ms/step - loss: 61.4890 - accuracy: 0.9644\n",
            "Epoch 45/100\n",
            "12/12 [==============================] - 0s 3ms/step - loss: 64.2432 - accuracy: 0.9644\n",
            "Epoch 46/100\n",
            "12/12 [==============================] - 0s 3ms/step - loss: 59.5027 - accuracy: 0.9644\n",
            "Epoch 47/100\n",
            "12/12 [==============================] - 0s 3ms/step - loss: 59.1612 - accuracy: 0.9644\n",
            "Epoch 48/100\n",
            "12/12 [==============================] - 0s 3ms/step - loss: 61.6987 - accuracy: 0.9644\n",
            "Epoch 49/100\n",
            "12/12 [==============================] - 0s 4ms/step - loss: 60.7404 - accuracy: 0.9644\n",
            "Epoch 50/100\n",
            "12/12 [==============================] - 0s 3ms/step - loss: 59.2958 - accuracy: 0.9644\n",
            "Epoch 51/100\n",
            "12/12 [==============================] - 0s 3ms/step - loss: 63.0183 - accuracy: 0.9644\n",
            "Epoch 52/100\n",
            "12/12 [==============================] - 0s 3ms/step - loss: 59.0503 - accuracy: 0.8438\n",
            "Epoch 53/100\n",
            "12/12 [==============================] - 0s 3ms/step - loss: 62.6214 - accuracy: 0.9644\n",
            "Epoch 54/100\n",
            "12/12 [==============================] - 0s 3ms/step - loss: 60.2354 - accuracy: 0.9644\n",
            "Epoch 55/100\n",
            "12/12 [==============================] - 0s 3ms/step - loss: 58.3447 - accuracy: 0.9644\n",
            "Epoch 56/100\n",
            "12/12 [==============================] - 0s 3ms/step - loss: 61.7556 - accuracy: 0.9644\n",
            "Epoch 57/100\n",
            "12/12 [==============================] - 0s 3ms/step - loss: 74.4235 - accuracy: 0.9644\n",
            "Epoch 58/100\n",
            "12/12 [==============================] - 0s 5ms/step - loss: 58.8070 - accuracy: 0.9644\n",
            "Epoch 59/100\n",
            "12/12 [==============================] - 0s 3ms/step - loss: 68.5310 - accuracy: 0.9644\n",
            "Epoch 60/100\n",
            "12/12 [==============================] - 0s 3ms/step - loss: 65.6557 - accuracy: 0.9644\n",
            "Epoch 61/100\n",
            "12/12 [==============================] - 0s 3ms/step - loss: 64.1217 - accuracy: 0.9644\n",
            "Epoch 62/100\n",
            "12/12 [==============================] - 0s 3ms/step - loss: 66.2692 - accuracy: 0.9644\n",
            "Epoch 63/100\n",
            "12/12 [==============================] - 0s 3ms/step - loss: 65.7367 - accuracy: 0.9644\n",
            "Epoch 64/100\n",
            "12/12 [==============================] - 0s 3ms/step - loss: 69.8054 - accuracy: 0.9644\n",
            "Epoch 65/100\n",
            "12/12 [==============================] - 0s 3ms/step - loss: 62.9811 - accuracy: 0.9644\n",
            "Epoch 66/100\n",
            "12/12 [==============================] - 0s 3ms/step - loss: 58.1070 - accuracy: 0.9644\n",
            "Epoch 67/100\n",
            "12/12 [==============================] - 0s 3ms/step - loss: 57.1190 - accuracy: 0.9644\n",
            "Epoch 68/100\n",
            "12/12 [==============================] - 0s 3ms/step - loss: 59.3879 - accuracy: 0.9644\n",
            "Epoch 69/100\n",
            "12/12 [==============================] - 0s 3ms/step - loss: 64.1540 - accuracy: 0.9644\n",
            "Epoch 70/100\n",
            "12/12 [==============================] - 0s 3ms/step - loss: 68.7555 - accuracy: 0.9644\n",
            "Epoch 71/100\n",
            "12/12 [==============================] - 0s 4ms/step - loss: 74.2367 - accuracy: 0.9644\n",
            "Epoch 72/100\n",
            "12/12 [==============================] - 0s 3ms/step - loss: 64.8624 - accuracy: 0.9507\n",
            "Epoch 73/100\n",
            "12/12 [==============================] - 0s 3ms/step - loss: 58.1693 - accuracy: 0.9644\n",
            "Epoch 74/100\n",
            "12/12 [==============================] - 0s 3ms/step - loss: 59.7772 - accuracy: 0.9644\n",
            "Epoch 75/100\n",
            "12/12 [==============================] - 0s 3ms/step - loss: 59.1278 - accuracy: 0.9644\n",
            "Epoch 76/100\n",
            "12/12 [==============================] - 0s 3ms/step - loss: 57.6769 - accuracy: 0.9644\n",
            "Epoch 77/100\n",
            "12/12 [==============================] - 0s 3ms/step - loss: 56.1274 - accuracy: 0.9644\n",
            "Epoch 78/100\n",
            "12/12 [==============================] - 0s 3ms/step - loss: 55.3533 - accuracy: 0.9644\n",
            "Epoch 79/100\n",
            "12/12 [==============================] - 0s 3ms/step - loss: 62.4828 - accuracy: 0.9644\n",
            "Epoch 80/100\n",
            "12/12 [==============================] - 0s 3ms/step - loss: 60.0734 - accuracy: 0.9644\n",
            "Epoch 81/100\n",
            "12/12 [==============================] - 0s 3ms/step - loss: 57.0482 - accuracy: 0.9644\n",
            "Epoch 82/100\n",
            "12/12 [==============================] - 0s 3ms/step - loss: 61.4702 - accuracy: 0.9644\n",
            "Epoch 83/100\n",
            "12/12 [==============================] - 0s 3ms/step - loss: 61.7742 - accuracy: 0.9644\n",
            "Epoch 84/100\n",
            "12/12 [==============================] - 0s 5ms/step - loss: 63.5175 - accuracy: 0.9644\n",
            "Epoch 85/100\n",
            "12/12 [==============================] - 0s 3ms/step - loss: 63.9224 - accuracy: 0.8521\n",
            "Epoch 86/100\n",
            "12/12 [==============================] - 0s 3ms/step - loss: 59.4673 - accuracy: 0.9644\n",
            "Epoch 87/100\n",
            "12/12 [==============================] - 0s 3ms/step - loss: 56.0885 - accuracy: 0.9644\n",
            "Epoch 88/100\n",
            "12/12 [==============================] - 0s 3ms/step - loss: 63.3157 - accuracy: 0.9644\n",
            "Epoch 89/100\n",
            "12/12 [==============================] - 0s 3ms/step - loss: 58.4772 - accuracy: 0.9589\n",
            "Epoch 90/100\n",
            "12/12 [==============================] - 0s 3ms/step - loss: 59.7136 - accuracy: 0.9644\n",
            "Epoch 91/100\n",
            "12/12 [==============================] - 0s 3ms/step - loss: 58.7803 - accuracy: 0.9644\n",
            "Epoch 92/100\n",
            "12/12 [==============================] - 0s 3ms/step - loss: 61.1223 - accuracy: 0.9644\n",
            "Epoch 93/100\n",
            "12/12 [==============================] - 0s 3ms/step - loss: 61.0255 - accuracy: 0.9644\n",
            "Epoch 94/100\n",
            "12/12 [==============================] - 0s 3ms/step - loss: 61.3649 - accuracy: 0.9644\n",
            "Epoch 95/100\n",
            "12/12 [==============================] - 0s 3ms/step - loss: 63.1454 - accuracy: 0.9397\n",
            "Epoch 96/100\n",
            "12/12 [==============================] - 0s 3ms/step - loss: 63.7186 - accuracy: 0.9644\n",
            "Epoch 97/100\n",
            "12/12 [==============================] - 0s 3ms/step - loss: 68.0541 - accuracy: 0.9589\n",
            "Epoch 98/100\n",
            "12/12 [==============================] - 0s 3ms/step - loss: 62.4840 - accuracy: 0.9644\n",
            "Epoch 99/100\n",
            "12/12 [==============================] - 0s 3ms/step - loss: 59.2338 - accuracy: 0.9644\n",
            "Epoch 100/100\n",
            "12/12 [==============================] - 0s 3ms/step - loss: 61.3141 - accuracy: 0.9644\n"
          ]
        }
      ],
      "source": [
        "model_6 = tf.keras.Sequential([\n",
        "                               tf.keras.layers.Dense(4, input_shape=[4] ,activation = 'relu'),\n",
        "                               tf.keras.layers.Dense(100 ,activation = 'relu'),\n",
        "                               tf.keras.layers.Dense(100 ,activation = 'relu'),\n",
        "                               tf.keras.layers.Dense(100 ,activation = 'relu'),\n",
        "                               tf.keras.layers.Dense(100 ,activation = 'relu'),\n",
        "                               tf.keras.layers.Dense(100 ,activation = 'relu'),\n",
        "                               tf.keras.layers.Dense(4,activation = 'relu'),\n",
        "\n",
        "])\n",
        "\n",
        "model_6.compile(loss = 'MAE',\n",
        "                optimizer =tf.keras.optimizers.Adam(lr = 0.001),\n",
        "                metrics = ['accuracy'])\n",
        "history_6= model_6.fit(tf.expand_dims(x_eth, axis=-1), y_eth, batch_size=32, epochs = 100, verbose = 1)"
      ]
    },
    {
      "cell_type": "code",
      "source": [
        "df_his_6 = pd.DataFrame(history_6.history)\n",
        "df_his_6['loss'].plot(figsize= (10,10), xlabel= 'Epochs', ylabel= 'Loss', title = 'Loss Curve')"
      ],
      "metadata": {
        "colab": {
          "base_uri": "https://localhost:8080/",
          "height": 639
        },
        "id": "ZLmcAki2sQ_l",
        "outputId": "9ecb9c24-21f0-4400-c4bf-a05908ed11c0"
      },
      "execution_count": 91,
      "outputs": [
        {
          "output_type": "execute_result",
          "data": {
            "text/plain": [
              "<matplotlib.axes._subplots.AxesSubplot at 0x7f96c6ad1700>"
            ]
          },
          "metadata": {},
          "execution_count": 91
        },
        {
          "output_type": "display_data",
          "data": {
            "text/plain": [
              "<Figure size 720x720 with 1 Axes>"
            ],
            "image/png": "[encoded data removed]"
          },
          "metadata": {
            "needs_background": "light"
          }
        }
      ]
    },
    {
      "cell_type": "code",
      "source": [
        "df_his_6['accuracy'] = df_his_6['accuracy']*100\n",
        "df_his_6['accuracy'].plot(figsize= (10,10), xlabel= 'Epochs', ylabel= 'Accuracy(%)', title = 'Accuracy Curve')"
      ],
      "metadata": {
        "colab": {
          "base_uri": "https://localhost:8080/",
          "height": 639
        },
        "id": "yyMg70sCtBSi",
        "outputId": "45a640b8-3ee9-4cb6-aab2-2266ecf58f01"
      },
      "execution_count": 92,
      "outputs": [
        {
          "output_type": "execute_result",
          "data": {
            "text/plain": [
              "<matplotlib.axes._subplots.AxesSubplot at 0x7f96c6d07a60>"
            ]
          },
          "metadata": {},
          "execution_count": 92
        },
        {
          "output_type": "display_data",
          "data": {
            "text/plain": [
              "<Figure size 720x720 with 1 Axes>"
            ],
            "image/png": "[encoded data removed]"
          },
          "metadata": {
            "needs_background": "light"
          }
        }
      ]
    },
    {
      "cell_type": "code",
      "execution_count": 80,
      "metadata": {
        "id": "Mbxn3yAWIB6_"
      },
      "outputs": [],
      "source": [
        "model_6.save('model_eth.h5')"
      ]
    },
    {
      "cell_type": "markdown",
      "source": [
        "##Testing of ETHER Model"
      ],
      "metadata": {
        "id": "r1xjNvBUtILE"
      }
    },
    {
      "cell_type": "code",
      "execution_count": 83,
      "metadata": {
        "id": "4KPxvF6PHyXM",
        "colab": {
          "base_uri": "https://localhost:8080/",
          "height": 206
        },
        "outputId": "45fe3d35-2220-488d-ed93-30f2e3a7d538"
      },
      "outputs": [
        {
          "output_type": "execute_result",
          "data": {
            "text/plain": [
              "          Open         High          Low        Close       Volume  \\\n",
              "0  4514.355957  4647.289063  4100.145508  4220.706055  25879591528   \n",
              "1  4227.762207  4242.725586  3525.494141  4119.587402  38478999182   \n",
              "2  4119.628906  4246.923340  4040.217529  4198.322754  25533062707   \n",
              "3  4199.000000  4375.520508  3930.806641  4358.737305  28229518513   \n",
              "4  4358.586914  4428.589355  4264.323730  4315.061523  22366213354   \n",
              "\n",
              "        Open_1       High_1        Low_1      Close_1  \n",
              "0  4227.762207  4242.725586  3525.494141  4119.587402  \n",
              "1  4119.628906  4246.923340  4040.217529  4198.322754  \n",
              "2  4199.000000  4375.520508  3930.806641  4358.737305  \n",
              "3  4358.586914  4428.589355  4264.323730  4315.061523  \n",
              "4  4311.674316  4453.112305  4234.537598  4439.357910  "
            ],
            "text/html": [
              "\n",
              "  <div id=\"df-70a1fd6c-8a31-4bcf-a8e1-6a1cfbe2e94c\">\n",
              "    <div class=\"colab-df-container\">\n",
              "      <div>\n",
              "<style scoped>\n",
              "    .dataframe tbody tr th:only-of-type {\n",
              "        vertical-align: middle;\n",
              "    }\n",
              "\n",
              "    .dataframe tbody tr th {\n",
              "        vertical-align: top;\n",
              "    }\n",
              "\n",
              "    .dataframe thead th {\n",
              "        text-align: right;\n",
              "    }\n",
              "</style>\n",
              "<table border=\"1\" class=\"dataframe\">\n",
              "  <thead>\n",
              "    <tr style=\"text-align: right;\">\n",
              "      <th></th>\n",
              "      <th>Open</th>\n",
              "      <th>High</th>\n",
              "      <th>Low</th>\n",
              "      <th>Close</th>\n",
              "      <th>Volume</th>\n",
              "      <th>Open_1</th>\n",
              "      <th>High_1</th>\n",
              "      <th>Low_1</th>\n",
              "      <th>Close_1</th>\n",
              "    </tr>\n",
              "  </thead>\n",
              "  <tbody>\n",
              "    <tr>\n",
              "      <th>0</th>\n",
              "      <td>4514.355957</td>\n",
              "      <td>4647.289063</td>\n",
              "      <td>4100.145508</td>\n",
              "      <td>4220.706055</td>\n",
              "      <td>25879591528</td>\n",
              "      <td>4227.762207</td>\n",
              "      <td>4242.725586</td>\n",
              "      <td>3525.494141</td>\n",
              "      <td>4119.587402</td>\n",
              "    </tr>\n",
              "    <tr>\n",
              "      <th>1</th>\n",
              "      <td>4227.762207</td>\n",
              "      <td>4242.725586</td>\n",
              "      <td>3525.494141</td>\n",
              "      <td>4119.587402</td>\n",
              "      <td>38478999182</td>\n",
              "      <td>4119.628906</td>\n",
              "      <td>4246.923340</td>\n",
              "      <td>4040.217529</td>\n",
              "      <td>4198.322754</td>\n",
              "    </tr>\n",
              "    <tr>\n",
              "      <th>2</th>\n",
              "      <td>4119.628906</td>\n",
              "      <td>4246.923340</td>\n",
              "      <td>4040.217529</td>\n",
              "      <td>4198.322754</td>\n",
              "      <td>25533062707</td>\n",
              "      <td>4199.000000</td>\n",
              "      <td>4375.520508</td>\n",
              "      <td>3930.806641</td>\n",
              "      <td>4358.737305</td>\n",
              "    </tr>\n",
              "    <tr>\n",
              "      <th>3</th>\n",
              "      <td>4199.000000</td>\n",
              "      <td>4375.520508</td>\n",
              "      <td>3930.806641</td>\n",
              "      <td>4358.737305</td>\n",
              "      <td>28229518513</td>\n",
              "      <td>4358.586914</td>\n",
              "      <td>4428.589355</td>\n",
              "      <td>4264.323730</td>\n",
              "      <td>4315.061523</td>\n",
              "    </tr>\n",
              "    <tr>\n",
              "      <th>4</th>\n",
              "      <td>4358.586914</td>\n",
              "      <td>4428.589355</td>\n",
              "      <td>4264.323730</td>\n",
              "      <td>4315.061523</td>\n",
              "      <td>22366213354</td>\n",
              "      <td>4311.674316</td>\n",
              "      <td>4453.112305</td>\n",
              "      <td>4234.537598</td>\n",
              "      <td>4439.357910</td>\n",
              "    </tr>\n",
              "  </tbody>\n",
              "</table>\n",
              "</div>\n",
              "      <button class=\"colab-df-convert\" onclick=\"convertToInteractive('df-70a1fd6c-8a31-4bcf-a8e1-6a1cfbe2e94c')\"\n",
              "              title=\"Convert this dataframe to an interactive table.\"\n",
              "              style=\"display:none;\">\n",
              "        \n",
              "  <svg xmlns=\"http://www.w3.org/2000/svg\" height=\"24px\"viewBox=\"0 0 24 24\"\n",
              "       width=\"24px\">\n",
              "    <path d=\"M0 0h24v24H0V0z\" fill=\"none\"/>\n",
              "    <path d=\"M18.56 5.44l.94 2.06.94-2.06 2.06-.94-2.06-.94-.94-2.06-.94 2.06-2.06.94zm-11 1L8.5 8.5l.94-2.06 2.06-.94-2.06-.94L8.5 2.5l-.94 2.06-2.06.94zm10 10l.94 2.06.94-2.06 2.06-.94-2.06-.94-.94-2.06-.94 2.06-2.06.94z\"/><path d=\"M17.41 7.96l-1.37-1.37c-.4-.4-.92-.59-1.43-.59-.52 0-1.04.2-1.43.59L10.3 9.45l-7.72 7.72c-.78.78-.78 2.05 0 2.83L4 21.41c.39.39.9.59 1.41.59.51 0 1.02-.2 1.41-.59l7.78-7.78 2.81-2.81c.8-.78.8-2.07 0-2.86zM5.41 20L4 18.59l7.72-7.72 1.47 1.35L5.41 20z\"/>\n",
              "  </svg>\n",
              "      </button>\n",
              "      \n",
              "  <style>\n",
              "    .colab-df-container {\n",
              "      display:flex;\n",
              "      flex-wrap:wrap;\n",
              "      gap: 12px;\n",
              "    }\n",
              "\n",
              "    .colab-df-convert {\n",
              "      background-color: #E8F0FE;\n",
              "      border: none;\n",
              "      border-radius: 50%;\n",
              "      cursor: pointer;\n",
              "      display: none;\n",
              "      fill: #1967D2;\n",
              "      height: 32px;\n",
              "      padding: 0 0 0 0;\n",
              "      width: 32px;\n",
              "    }\n",
              "\n",
              "    .colab-df-convert:hover {\n",
              "      background-color: #E2EBFA;\n",
              "      box-shadow: 0px 1px 2px rgba(60, 64, 67, 0.3), 0px 1px 3px 1px rgba(60, 64, 67, 0.15);\n",
              "      fill: #174EA6;\n",
              "    }\n",
              "\n",
              "    [theme=dark] .colab-df-convert {\n",
              "      background-color: #3B4455;\n",
              "      fill: #D2E3FC;\n",
              "    }\n",
              "\n",
              "    [theme=dark] .colab-df-convert:hover {\n",
              "      background-color: #434B5C;\n",
              "      box-shadow: 0px 1px 3px 1px rgba(0, 0, 0, 0.15);\n",
              "      filter: drop-shadow(0px 1px 2px rgba(0, 0, 0, 0.3));\n",
              "      fill: #FFFFFF;\n",
              "    }\n",
              "  </style>\n",
              "\n",
              "      <script>\n",
              "        const buttonEl =\n",
              "          document.querySelector('#df-70a1fd6c-8a31-4bcf-a8e1-6a1cfbe2e94c button.colab-df-convert');\n",
              "        buttonEl.style.display =\n",
              "          google.colab.kernel.accessAllowed ? 'block' : 'none';\n",
              "\n",
              "        async function convertToInteractive(key) {\n",
              "          const element = document.querySelector('#df-70a1fd6c-8a31-4bcf-a8e1-6a1cfbe2e94c');\n",
              "          const dataTable =\n",
              "            await google.colab.kernel.invokeFunction('convertToInteractive',\n",
              "                                                     [key], {});\n",
              "          if (!dataTable) return;\n",
              "\n",
              "          const docLinkHtml = 'Like what you see? Visit the ' +\n",
              "            '<a target=\"_blank\" href=https://colab.research.google.com/notebooks/data_table.ipynb>data table notebook</a>'\n",
              "            + ' to learn more about interactive tables.';\n",
              "          element.innerHTML = '';\n",
              "          dataTable['output_type'] = 'display_data';\n",
              "          await google.colab.output.renderOutput(dataTable, element);\n",
              "          const docLink = document.createElement('div');\n",
              "          docLink.innerHTML = docLinkHtml;\n",
              "          element.appendChild(docLink);\n",
              "        }\n",
              "      </script>\n",
              "    </div>\n",
              "  </div>\n",
              "  "
            ]
          },
          "metadata": {},
          "execution_count": 83
        }
      ],
      "source": [
        "eth.head()"
      ]
    },
    {
      "cell_type": "code",
      "execution_count": 84,
      "metadata": {
        "id": "unEcdXDnIVC-",
        "colab": {
          "base_uri": "https://localhost:8080/"
        },
        "outputId": "d7c64ed2-82e1-4e13-a3d0-5bbce2578986"
      },
      "outputs": [
        {
          "output_type": "stream",
          "name": "stdout",
          "text": [
            "1/1 [==============================] - 0s 64ms/step\n",
            "Predicted Open: 4349.599609375, Predicted High: 4437.7587890625\n"
          ]
        }
      ],
      "source": [
        "path_model_4 = f'/content/model_eth.h5'\n",
        "fun_predict(list_inputs = [eth['Open'][0], eth['High'][0], eth['Low'][0], eth['Close'][0]] , path= path_model_4)"
      ]
    }
  ],
  "metadata": {
    "accelerator": "GPU",
    "colab": {
      "provenance": [],
      "collapsed_sections": [
        "8eKeEEu-Xggq"
      ]
    },
    "gpuClass": "standard",
    "kernelspec": {
      "display_name": "Python 3",
      "name": "python3"
    },
    "language_info": {
      "name": "python"
    }
  },
  "nbformat": 4,
  "nbformat_minor": 0
}